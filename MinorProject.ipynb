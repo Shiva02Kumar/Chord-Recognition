{
 "cells": [
  {
   "cell_type": "code",
   "execution_count": 2,
   "metadata": {},
   "outputs": [
    {
     "name": "stdout",
     "output_type": "stream",
     "text": [
      "WARNING:tensorflow:From c:\\Users\\Shiva Kumar\\AppData\\Local\\Programs\\Python\\Python311\\Lib\\site-packages\\keras\\src\\losses.py:2976: The name tf.losses.sparse_softmax_cross_entropy is deprecated. Please use tf.compat.v1.losses.sparse_softmax_cross_entropy instead.\n",
      "\n"
     ]
    }
   ],
   "source": [
    "import keras \n",
    "import math\n",
    "import os, glob\n",
    "import numpy as np\n",
    "import pandas as pd\n",
    "import soundfile as sf\n",
    "import tensorflow as tf\n",
    "import librosa, librosa.display\n",
    "import matplotlib.pyplot as plt\n",
    "from sklearn.metrics import confusion_matrix, classification_report\n",
    "import seaborn as sns\n",
    "from keras.layers import Activation, Dense, Dropout, Conv2D, Flatten, MaxPooling2D\n",
    "from keras.models import Sequential, model_from_json\n",
    "from keras import backend as K\n",
    "from keras.optimizers import Adam\n",
    "from imblearn.over_sampling import RandomOverSampler"
   ]
  },
  {
   "cell_type": "code",
   "execution_count": 2,
   "metadata": {},
   "outputs": [],
   "source": [
    "DATA_DIR_GUITAR = \"./data/audio/Guitar_Only/\"\n",
    "CLASSES = ['a', 'am', 'bm', 'c', 'd', 'dm', 'e', 'em', 'f', 'g']\n",
    "CLASSES_MAP = {'a':0, 'am':1, 'bm':2, 'c':3, 'd':4, 'dm':5, 'e':6, 'em':7, 'f':8, 'g':9}\n",
    "METADATA_DIR_RAW = \"./data/metadata/raw/\"\n",
    "METADATA_DIR_PROCESSED = \"./data/metadata/processed/\"\n",
    "DATA_DIR_AUGMENTED = \"./data/augmented/\"\n",
    "METADATA_DIR_AUGMENTED_RAW = \"./data/augmented/raw\"\n",
    "METADATA_DIR_AUGMENTED_PROCESSED = \"./data/augmented/processed\"\n",
    "MODEL_DIR = \"./model/\"\n",
    "MODEL_JSON = \"./model/model.json\"\n",
    "MODEL_H5 = \"./model/model.h5\""
   ]
  },
  {
   "cell_type": "code",
   "execution_count": 3,
   "metadata": {},
   "outputs": [
    {
     "data": {
      "text/plain": [
       "2000"
      ]
     },
     "execution_count": 3,
     "metadata": {},
     "output_type": "execute_result"
    }
   ],
   "source": [
    "len(glob.glob(DATA_DIR_GUITAR + \"**/*.wav\"))"
   ]
  },
  {
   "cell_type": "code",
   "execution_count": 4,
   "metadata": {},
   "outputs": [],
   "source": [
    "def df_info(f):\n",
    "    def inner(df, *args, **kwargs):\n",
    "        result = f(df, *args, **kwargs)\n",
    "        print(f\"After applying {f.__name__}, shape of df = {result.shape }\")\n",
    "        print(f\"Columns of df are {df.columns}\\n\")\n",
    "        return result\n",
    "    return inner\n",
    "\n",
    "# Construct Dataframe with all required values\n",
    "@df_info\n",
    "def construct_dataframe(df):\n",
    "    df['file_path'] = file_path\n",
    "    df['file_path'] = df['file_path'].map(lambda x: x[x.rindex('Only\\\\')+len('Only\\\\'):])\n",
    "    df['file_name'] = df['file_path'].map(lambda x: x[x.rindex('\\\\')+1:])\n",
    "    df['class_name'] = df['file_path'].map(lambda x: x[:x.index('\\\\')])\n",
    "    df['class_ID'] = df['class_name'].map(lambda x: CLASSES_MAP[x])\n",
    "    return df.copy()\n",
    "\n",
    "# Extract spectrogram from audio\n",
    "@df_info\n",
    "def get_spectrogram(df):\n",
    "    df['audio_series'] = df['file_path'].map(lambda x: librosa.load(DATA_DIR_GUITAR + x, duration=2))\n",
    "    df['y'] = df['audio_series'].map(lambda x: x[0])\n",
    "    df['sr'] = df['audio_series'].map(lambda x: x[1])\n",
    "    df['spectrogram'] = df.apply(lambda row: librosa.feature.melspectrogram(y=row['y'], sr=row['sr']), axis=1)\n",
    "    df.drop(columns='audio_series', inplace=True)\n",
    "    return df\n",
    "\n",
    "@df_info\n",
    "def get_count(df):\n",
    "    return df['class_name'].value_counts()\n",
    "\n",
    "@df_info\n",
    "def add_shape(df):\n",
    "    df['shape'] = df['spectrogram'].map(lambda x: x.shape)\n",
    "    return df"
   ]
  },
  {
   "cell_type": "code",
   "execution_count": 5,
   "metadata": {},
   "outputs": [
    {
     "name": "stdout",
     "output_type": "stream",
     "text": [
      "After applying construct_dataframe, shape of df = (2000, 4)\n",
      "Columns of df are Index(['file_path', 'file_name', 'class_name', 'class_ID'], dtype='object')\n",
      "\n",
      "After applying get_spectrogram, shape of df = (2000, 7)\n",
      "Columns of df are Index(['file_path', 'file_name', 'class_name', 'class_ID', 'y', 'sr',\n",
      "       'spectrogram'],\n",
      "      dtype='object')\n",
      "\n",
      "After applying add_shape, shape of df = (2000, 8)\n",
      "Columns of df are Index(['file_path', 'file_name', 'class_name', 'class_ID', 'y', 'sr',\n",
      "       'spectrogram', 'shape'],\n",
      "      dtype='object')\n",
      "\n"
     ]
    }
   ],
   "source": [
    "file_path = glob.glob(\"./data/audio/Guitar_Only/\" + \"**/*.wav\")\n",
    "data_df_raw = (pd.DataFrame().pipe(construct_dataframe)\n",
    "                            .pipe(get_spectrogram)\n",
    "                             .pipe(add_shape)\n",
    "            )"
   ]
  },
  {
   "cell_type": "code",
   "execution_count": 6,
   "metadata": {},
   "outputs": [
    {
     "name": "stdout",
     "output_type": "stream",
     "text": [
      "After applying get_count, shape of df = (10,)\n",
      "Columns of df are Index(['file_path', 'file_name', 'class_name', 'class_ID', 'y', 'sr',\n",
      "       'spectrogram', 'shape'],\n",
      "      dtype='object')\n",
      "\n"
     ]
    },
    {
     "data": {
      "text/plain": [
       "class_name\n",
       "a     200\n",
       "am    200\n",
       "bm    200\n",
       "c     200\n",
       "d     200\n",
       "dm    200\n",
       "e     200\n",
       "em    200\n",
       "f     200\n",
       "g     200\n",
       "Name: count, dtype: int64"
      ]
     },
     "execution_count": 6,
     "metadata": {},
     "output_type": "execute_result"
    }
   ],
   "source": [
    "get_count(data_df_raw)"
   ]
  },
  {
   "cell_type": "code",
   "execution_count": 8,
   "metadata": {},
   "outputs": [],
   "source": [
    "data_df_raw.to_csv(os.path.join(METADATA_DIR_RAW, 'data.csv'), index=False)\n",
    "data_df_raw.to_pickle(os.path.join(METADATA_DIR_RAW, 'data.pkl'))"
   ]
  },
  {
   "cell_type": "code",
   "execution_count": 7,
   "metadata": {},
   "outputs": [],
   "source": [
    "data_df_raw = pd.read_pickle(os.path.join(METADATA_DIR_RAW, 'data.pkl'))"
   ]
  },
  {
   "cell_type": "code",
   "execution_count": 9,
   "metadata": {},
   "outputs": [
    {
     "data": {
      "text/html": [
       "<div>\n",
       "<style scoped>\n",
       "    .dataframe tbody tr th:only-of-type {\n",
       "        vertical-align: middle;\n",
       "    }\n",
       "\n",
       "    .dataframe tbody tr th {\n",
       "        vertical-align: top;\n",
       "    }\n",
       "\n",
       "    .dataframe thead th {\n",
       "        text-align: right;\n",
       "    }\n",
       "</style>\n",
       "<table border=\"1\" class=\"dataframe\">\n",
       "  <thead>\n",
       "    <tr style=\"text-align: right;\">\n",
       "      <th></th>\n",
       "      <th>file_path</th>\n",
       "      <th>file_name</th>\n",
       "      <th>class_name</th>\n",
       "      <th>class_ID</th>\n",
       "      <th>y</th>\n",
       "      <th>sr</th>\n",
       "      <th>spectrogram</th>\n",
       "      <th>shape</th>\n",
       "    </tr>\n",
       "  </thead>\n",
       "  <tbody>\n",
       "    <tr>\n",
       "      <th>0</th>\n",
       "      <td>a\\a1.wav</td>\n",
       "      <td>a1.wav</td>\n",
       "      <td>a</td>\n",
       "      <td>0</td>\n",
       "      <td>[-0.00044090126, -0.0005725771, -0.0003972128,...</td>\n",
       "      <td>22050</td>\n",
       "      <td>[[1.4596096e-05, 0.00024260356, 0.00096791255,...</td>\n",
       "      <td>(128, 52)</td>\n",
       "    </tr>\n",
       "    <tr>\n",
       "      <th>1</th>\n",
       "      <td>a\\a10.wav</td>\n",
       "      <td>a10.wav</td>\n",
       "      <td>a</td>\n",
       "      <td>0</td>\n",
       "      <td>[0.025644582, 0.03873189, 0.034305602, 0.03391...</td>\n",
       "      <td>22050</td>\n",
       "      <td>[[0.013701358, 0.003172148, 0.001500244, 0.001...</td>\n",
       "      <td>(128, 66)</td>\n",
       "    </tr>\n",
       "    <tr>\n",
       "      <th>2</th>\n",
       "      <td>a\\a100.wav</td>\n",
       "      <td>a100.wav</td>\n",
       "      <td>a</td>\n",
       "      <td>0</td>\n",
       "      <td>[-0.00018296344, -0.0002981358, -0.0002974281,...</td>\n",
       "      <td>22050</td>\n",
       "      <td>[[0.0003008564, 0.00028734427, 0.00024939654, ...</td>\n",
       "      <td>(128, 81)</td>\n",
       "    </tr>\n",
       "    <tr>\n",
       "      <th>3</th>\n",
       "      <td>a\\a101.wav</td>\n",
       "      <td>a101.wav</td>\n",
       "      <td>a</td>\n",
       "      <td>0</td>\n",
       "      <td>[0.0004918799, 0.00016076537, -0.00018280663, ...</td>\n",
       "      <td>22050</td>\n",
       "      <td>[[0.0050224112, 0.005019856, 0.004343026, 0.00...</td>\n",
       "      <td>(128, 71)</td>\n",
       "    </tr>\n",
       "    <tr>\n",
       "      <th>4</th>\n",
       "      <td>a\\a102.wav</td>\n",
       "      <td>a102.wav</td>\n",
       "      <td>a</td>\n",
       "      <td>0</td>\n",
       "      <td>[-0.0071322983, -0.010516543, -0.008813906, -0...</td>\n",
       "      <td>22050</td>\n",
       "      <td>[[0.004694343, 0.0048317523, 0.0040243855, 0.0...</td>\n",
       "      <td>(128, 77)</td>\n",
       "    </tr>\n",
       "  </tbody>\n",
       "</table>\n",
       "</div>"
      ],
      "text/plain": [
       "    file_path file_name class_name  class_ID  \\\n",
       "0    a\\a1.wav    a1.wav          a         0   \n",
       "1   a\\a10.wav   a10.wav          a         0   \n",
       "2  a\\a100.wav  a100.wav          a         0   \n",
       "3  a\\a101.wav  a101.wav          a         0   \n",
       "4  a\\a102.wav  a102.wav          a         0   \n",
       "\n",
       "                                                   y     sr  \\\n",
       "0  [-0.00044090126, -0.0005725771, -0.0003972128,...  22050   \n",
       "1  [0.025644582, 0.03873189, 0.034305602, 0.03391...  22050   \n",
       "2  [-0.00018296344, -0.0002981358, -0.0002974281,...  22050   \n",
       "3  [0.0004918799, 0.00016076537, -0.00018280663, ...  22050   \n",
       "4  [-0.0071322983, -0.010516543, -0.008813906, -0...  22050   \n",
       "\n",
       "                                         spectrogram      shape  \n",
       "0  [[1.4596096e-05, 0.00024260356, 0.00096791255,...  (128, 52)  \n",
       "1  [[0.013701358, 0.003172148, 0.001500244, 0.001...  (128, 66)  \n",
       "2  [[0.0003008564, 0.00028734427, 0.00024939654, ...  (128, 81)  \n",
       "3  [[0.0050224112, 0.005019856, 0.004343026, 0.00...  (128, 71)  \n",
       "4  [[0.004694343, 0.0048317523, 0.0040243855, 0.0...  (128, 77)  "
      ]
     },
     "execution_count": 9,
     "metadata": {},
     "output_type": "execute_result"
    }
   ],
   "source": [
    "data_df_raw.head()"
   ]
  },
  {
   "cell_type": "code",
   "execution_count": 10,
   "metadata": {},
   "outputs": [],
   "source": [
    "@df_info\n",
    "def clean_shape(df):\n",
    "    max_shape = df['spectrogram'].map(lambda x: x.shape).value_counts().index[0]\n",
    "    print(f\"The most frequent shape is {max_shape}\")\n",
    "    df['shape'] = df['spectrogram'].map(lambda x: x.shape)\n",
    "    df = df[df['shape']==max_shape]\n",
    "    df.drop(columns='shape', inplace=True)\n",
    "    df.reset_index(drop=True, inplace=True)\n",
    "    return df\n",
    "\n",
    "@df_info\n",
    "def process(df):\n",
    "    df = (df.pipe(clean_shape)\n",
    "                .pipe(over_sample)\n",
    "    )\n",
    "    df = df[['spectrogram','class_ID', 'class_name']]\n",
    "    return df\n",
    "\n",
    "#Over sampling data\n",
    "@df_info\n",
    "def over_sample(df):\n",
    "    oversample = RandomOverSampler(sampling_strategy='auto')\n",
    "    X, y = df['spectrogram'].values, df['class_ID'].values\n",
    "    X = X.reshape(-1, 1)\n",
    "    X, y = oversample.fit_resample(X, y)\n",
    "    df = pd.DataFrame()\n",
    "    df['spectrogram'] = pd.Series([np.array(x[0]) for x in X])\n",
    "    df['class_ID'] = pd.Series(y)\n",
    "    df['class_name'] = df['class_ID'].map(lambda x: get_class(x))\n",
    "    return df\n",
    "\n",
    "def get_class(class_ID):\n",
    "    return list(CLASSES_MAP.keys())[list(CLASSES_MAP.values()).index(class_ID)]"
   ]
  },
  {
   "cell_type": "code",
   "execution_count": 11,
   "metadata": {},
   "outputs": [
    {
     "name": "stdout",
     "output_type": "stream",
     "text": [
      "The most frequent shape is (128, 87)\n",
      "After applying clean_shape, shape of df = (633, 7)\n",
      "Columns of df are Index(['file_path', 'file_name', 'class_name', 'class_ID', 'y', 'sr',\n",
      "       'spectrogram', 'shape'],\n",
      "      dtype='object')\n",
      "\n",
      "After applying over_sample, shape of df = (1150, 3)\n",
      "Columns of df are Index(['file_path', 'file_name', 'class_name', 'class_ID', 'y', 'sr',\n",
      "       'spectrogram'],\n",
      "      dtype='object')\n",
      "\n",
      "After applying process, shape of df = (1150, 3)\n",
      "Columns of df are Index(['file_path', 'file_name', 'class_name', 'class_ID', 'y', 'sr',\n",
      "       'spectrogram', 'shape'],\n",
      "      dtype='object')\n",
      "\n"
     ]
    },
    {
     "name": "stderr",
     "output_type": "stream",
     "text": [
      "C:\\Users\\Shiva Kumar\\AppData\\Local\\Temp\\ipykernel_20200\\2670538892.py:7: SettingWithCopyWarning: \n",
      "A value is trying to be set on a copy of a slice from a DataFrame\n",
      "\n",
      "See the caveats in the documentation: https://pandas.pydata.org/pandas-docs/stable/user_guide/indexing.html#returning-a-view-versus-a-copy\n",
      "  df.drop(columns='shape', inplace=True)\n"
     ]
    }
   ],
   "source": [
    "data_df_processed = process(data_df_raw)"
   ]
  },
  {
   "cell_type": "code",
   "execution_count": 12,
   "metadata": {},
   "outputs": [
    {
     "name": "stdout",
     "output_type": "stream",
     "text": [
      "After applying get_count, shape of df = (10,)\n",
      "Columns of df are Index(['spectrogram', 'class_ID', 'class_name'], dtype='object')\n",
      "\n"
     ]
    },
    {
     "data": {
      "text/plain": [
       "class_name\n",
       "a     115\n",
       "am    115\n",
       "bm    115\n",
       "c     115\n",
       "d     115\n",
       "dm    115\n",
       "e     115\n",
       "em    115\n",
       "f     115\n",
       "g     115\n",
       "Name: count, dtype: int64"
      ]
     },
     "execution_count": 12,
     "metadata": {},
     "output_type": "execute_result"
    }
   ],
   "source": [
    "get_count(data_df_processed)"
   ]
  },
  {
   "cell_type": "code",
   "execution_count": 13,
   "metadata": {},
   "outputs": [],
   "source": [
    "data_df_processed.to_csv(os.path.join(METADATA_DIR_PROCESSED, 'data.csv'), index=False)\n",
    "data_df_processed.to_pickle(os.path.join(METADATA_DIR_PROCESSED, 'data.pkl'))"
   ]
  },
  {
   "cell_type": "code",
   "execution_count": 14,
   "metadata": {},
   "outputs": [
    {
     "data": {
      "text/html": [
       "<div>\n",
       "<style scoped>\n",
       "    .dataframe tbody tr th:only-of-type {\n",
       "        vertical-align: middle;\n",
       "    }\n",
       "\n",
       "    .dataframe tbody tr th {\n",
       "        vertical-align: top;\n",
       "    }\n",
       "\n",
       "    .dataframe thead th {\n",
       "        text-align: right;\n",
       "    }\n",
       "</style>\n",
       "<table border=\"1\" class=\"dataframe\">\n",
       "  <thead>\n",
       "    <tr style=\"text-align: right;\">\n",
       "      <th></th>\n",
       "      <th>spectrogram</th>\n",
       "      <th>class_ID</th>\n",
       "      <th>class_name</th>\n",
       "    </tr>\n",
       "  </thead>\n",
       "  <tbody>\n",
       "    <tr>\n",
       "      <th>0</th>\n",
       "      <td>[[0.0047523906, 0.004513992, 0.0045696595, 0.0...</td>\n",
       "      <td>0</td>\n",
       "      <td>a</td>\n",
       "    </tr>\n",
       "    <tr>\n",
       "      <th>1</th>\n",
       "      <td>[[0.007935312, 0.009195907, 0.0041631414, 0.00...</td>\n",
       "      <td>0</td>\n",
       "      <td>a</td>\n",
       "    </tr>\n",
       "    <tr>\n",
       "      <th>2</th>\n",
       "      <td>[[0.009259402, 0.0056097205, 0.004018, 0.00440...</td>\n",
       "      <td>0</td>\n",
       "      <td>a</td>\n",
       "    </tr>\n",
       "    <tr>\n",
       "      <th>3</th>\n",
       "      <td>[[0.003362876, 0.00532303, 0.003621814, 0.0045...</td>\n",
       "      <td>0</td>\n",
       "      <td>a</td>\n",
       "    </tr>\n",
       "    <tr>\n",
       "      <th>4</th>\n",
       "      <td>[[0.00042518272, 0.00048722717, 0.0003344478, ...</td>\n",
       "      <td>0</td>\n",
       "      <td>a</td>\n",
       "    </tr>\n",
       "  </tbody>\n",
       "</table>\n",
       "</div>"
      ],
      "text/plain": [
       "                                         spectrogram  class_ID class_name\n",
       "0  [[0.0047523906, 0.004513992, 0.0045696595, 0.0...         0          a\n",
       "1  [[0.007935312, 0.009195907, 0.0041631414, 0.00...         0          a\n",
       "2  [[0.009259402, 0.0056097205, 0.004018, 0.00440...         0          a\n",
       "3  [[0.003362876, 0.00532303, 0.003621814, 0.0045...         0          a\n",
       "4  [[0.00042518272, 0.00048722717, 0.0003344478, ...         0          a"
      ]
     },
     "execution_count": 14,
     "metadata": {},
     "output_type": "execute_result"
    }
   ],
   "source": [
    "data_df_processed.head()"
   ]
  },
  {
   "cell_type": "code",
   "execution_count": 15,
   "metadata": {},
   "outputs": [
    {
     "data": {
      "text/plain": [
       "(128, 52)"
      ]
     },
     "execution_count": 15,
     "metadata": {},
     "output_type": "execute_result"
    }
   ],
   "source": [
    "y, sr = librosa.load(DATA_DIR_GUITAR+data_df_raw['file_path'].iloc[0],duration=2)\n",
    "ps = librosa.feature.melspectrogram(y=y, sr=sr)\n",
    "ps.shape"
   ]
  },
  {
   "cell_type": "code",
   "execution_count": 24,
   "metadata": {},
   "outputs": [
    {
     "data": {
      "text/plain": [
       "<librosa.display.AdaptiveWaveplot at 0x2c491d2ecd0>"
      ]
     },
     "execution_count": 24,
     "metadata": {},
     "output_type": "execute_result"
    },
    {
     "data": {
      "image/png": "[encoded data removed]",
      "text/plain": [
       "<Figure size 640x480 with 1 Axes>"
      ]
     },
     "metadata": {},
     "output_type": "display_data"
    }
   ],
   "source": [
    "librosa.display.waveshow(y, sr=sr, color= \"red\")\n",
    "plt.title('Waveform')\n",
    "plt.xlabel('Time (s)')\n",
    "plt.ylabel('Amplitude')\n",
    "plt.show()"
   ]
  },
  {
   "cell_type": "code",
   "execution_count": 16,
   "metadata": {},
   "outputs": [
    {
     "data": {
      "text/plain": [
       "<matplotlib.collections.QuadMesh at 0x2c4d7fb7d10>"
      ]
     },
     "execution_count": 16,
     "metadata": {},
     "output_type": "execute_result"
    },
    {
     "data": {
      "image/png": "[encoded data removed]",
      "text/plain": [
       "<Figure size 640x480 with 1 Axes>"
      ]
     },
     "metadata": {},
     "output_type": "display_data"
    }
   ],
   "source": [
    "librosa.display.specshow(ps, y_axis='mel', x_axis='time')"
   ]
  },
  {
   "cell_type": "code",
   "execution_count": 25,
   "metadata": {},
   "outputs": [],
   "source": [
    "def precision(y_true, y_pred):\n",
    "    true_positives = K.sum(K.round(K.clip(y_true * y_pred, 0, 1)))\n",
    "    predicted_positives = K.sum(K.round(K.clip(y_pred, 0, 1)))\n",
    "    precision = true_positives / (predicted_positives + K.epsilon())\n",
    "    return precision\n",
    "\n",
    "\n",
    "def recall(y_true, y_pred):\n",
    "    true_positives = K.sum(K.round(K.clip(y_true * y_pred, 0, 1)))\n",
    "    possible_positives = K.sum(K.round(K.clip(y_true, 0, 1)))\n",
    "    recall = true_positives / (possible_positives + K.epsilon())\n",
    "    return recall\n",
    "\n",
    "\n",
    "def fbeta_score(y_true, y_pred, beta=1):\n",
    "    if beta < 0:\n",
    "        raise ValueError('The lowest choosable beta is zero (only precision).')\n",
    "    if K.sum(K.round(K.clip(y_true, 0, 1))) == 0:\n",
    "        return 0.0\n",
    "    p = precision(y_true, y_pred)\n",
    "    r = recall(y_true, y_pred)\n",
    "    bb = beta ** 2\n",
    "    fbeta_score = (1 + bb) * (p * r) / (bb * p + r + K.epsilon())\n",
    "    return fbeta_score\n",
    "\n",
    "\n",
    "def fmeasure(y_true, y_pred):\n",
    "    return fbeta_score(y_true, y_pred, beta=1)"
   ]
  },
  {
   "cell_type": "code",
   "execution_count": 26,
   "metadata": {},
   "outputs": [],
   "source": [
    "data_df_raw = pd.read_pickle(os.path.join(METADATA_DIR_RAW, 'data.pkl'))"
   ]
  },
  {
   "cell_type": "code",
   "execution_count": 27,
   "metadata": {},
   "outputs": [],
   "source": [
    "def get_augmentation_count(df):\n",
    "    return df['augmentation'].value_counts()\n",
    "@df_info\n",
    "def augment_data(df, kind='time', rate=1.07):\n",
    "    if kind == 'time':\n",
    "        df['y'] = df['y'].map(lambda y:librosa.effects.time_stretch(y, rate=rate))\n",
    "        new_path = 'speed_' + str(int(rate*100))\n",
    "    elif kind == 'pitch':\n",
    "        df['y'] = df.apply(lambda row:librosa.effects.pitch_shift(row['y'], sr=row['sr'], n_steps=rate), axis=1)\n",
    "        new_path = 'pitch_' + str(int(rate*100))\n",
    "    df['file_path'] = df.apply(lambda row: row['class_name']+'/'+new_path+\"/\"+row['file_name'], axis=1)\n",
    "    for class_name in CLASSES:\n",
    "        directory = os.path.join(DATA_DIR_AUGMENTED,class_name,new_path)\n",
    "        if not os.path.exists(directory):\n",
    "            os.makedirs(directory)\n",
    "    path_exists_mask =  df['file_path'].map(lambda x: not os.path.exists(os.path.join(DATA_DIR_AUGMENTED, x)))\n",
    "    df[path_exists_mask].apply(lambda row: sf.write(os.path.join(DATA_DIR_AUGMENTED, row['file_path']),row['y'], row['sr']), axis=1)   \n",
    "    df['spectrogram'] = df.apply(lambda row: librosa.feature.melspectrogram(y=row['y'],sr=row['sr']),axis=1)\n",
    "    df['augmentation'] = new_path\n",
    "    return df"
   ]
  },
  {
   "cell_type": "code",
   "execution_count": 28,
   "metadata": {},
   "outputs": [
    {
     "name": "stdout",
     "output_type": "stream",
     "text": [
      "After applying augment_data, shape of df = (2000, 9)\n",
      "Columns of df are Index(['file_path', 'file_name', 'class_name', 'class_ID', 'y', 'sr',\n",
      "       'spectrogram', 'shape', 'augmentation'],\n",
      "      dtype='object')\n",
      "\n",
      "After applying augment_data, shape of df = (2000, 9)\n",
      "Columns of df are Index(['file_path', 'file_name', 'class_name', 'class_ID', 'y', 'sr',\n",
      "       'spectrogram', 'shape', 'augmentation'],\n",
      "      dtype='object')\n",
      "\n"
     ]
    }
   ],
   "source": [
    "data_df_time_inc = augment_data(data_df_raw.copy(), kind='time', rate=1.07)\n",
    "data_df_time_dec = augment_data(data_df_raw.copy(), kind='time', rate=0.81)"
   ]
  },
  {
   "cell_type": "code",
   "execution_count": 29,
   "metadata": {},
   "outputs": [
    {
     "name": "stdout",
     "output_type": "stream",
     "text": [
      "After applying augment_data, shape of df = (2000, 9)\n",
      "Columns of df are Index(['file_path', 'file_name', 'class_name', 'class_ID', 'y', 'sr',\n",
      "       'spectrogram', 'shape', 'augmentation'],\n",
      "      dtype='object')\n",
      "\n",
      "After applying augment_data, shape of df = (2000, 9)\n",
      "Columns of df are Index(['file_path', 'file_name', 'class_name', 'class_ID', 'y', 'sr',\n",
      "       'spectrogram', 'shape', 'augmentation'],\n",
      "      dtype='object')\n",
      "\n"
     ]
    }
   ],
   "source": [
    "data_df_shift_20 = augment_data(data_df_raw.copy(), kind='pitch', rate=2.5)\n",
    "data_df_shift_25 = augment_data(data_df_raw.copy(), kind='pitch', rate=2)"
   ]
  },
  {
   "cell_type": "code",
   "execution_count": 31,
   "metadata": {},
   "outputs": [],
   "source": [
    "data_df_raw['augmentation'] = 'None'\n",
    "data_df_augmented_raw = pd.concat([data_df_raw, data_df_time_inc, data_df_time_dec, data_df_shift_20, data_df_shift_25], axis=0)"
   ]
  },
  {
   "cell_type": "code",
   "execution_count": 32,
   "metadata": {},
   "outputs": [
    {
     "name": "stdout",
     "output_type": "stream",
     "text": [
      "After applying add_shape, shape of df = (10000, 9)\n",
      "Columns of df are Index(['file_path', 'file_name', 'class_name', 'class_ID', 'y', 'sr',\n",
      "       'spectrogram', 'shape', 'augmentation'],\n",
      "      dtype='object')\n",
      "\n"
     ]
    }
   ],
   "source": [
    "data_df_augmented_raw = data_df_augmented_raw.pipe(add_shape)"
   ]
  },
  {
   "cell_type": "code",
   "execution_count": 33,
   "metadata": {},
   "outputs": [
    {
     "name": "stdout",
     "output_type": "stream",
     "text": [
      "augmentation\n",
      "None         2000\n",
      "speed_107    2000\n",
      "speed_81     2000\n",
      "pitch_250    2000\n",
      "pitch_200    2000\n",
      "Name: count, dtype: int64\n"
     ]
    }
   ],
   "source": [
    "print(get_augmentation_count(data_df_augmented_raw))"
   ]
  },
  {
   "cell_type": "code",
   "execution_count": 35,
   "metadata": {},
   "outputs": [
    {
     "name": "stdout",
     "output_type": "stream",
     "text": [
      "After applying get_count, shape of df = (10,)\n",
      "Columns of df are Index(['file_path', 'file_name', 'class_name', 'class_ID', 'y', 'sr',\n",
      "       'spectrogram', 'shape', 'augmentation'],\n",
      "      dtype='object')\n",
      "\n",
      "class_name\n",
      "a     1000\n",
      "am    1000\n",
      "bm    1000\n",
      "c     1000\n",
      "d     1000\n",
      "dm    1000\n",
      "e     1000\n",
      "em    1000\n",
      "f     1000\n",
      "g     1000\n",
      "Name: count, dtype: int64\n"
     ]
    }
   ],
   "source": [
    "print(get_count(data_df_augmented_raw))"
   ]
  },
  {
   "cell_type": "code",
   "execution_count": 36,
   "metadata": {},
   "outputs": [
    {
     "data": {
      "text/html": [
       "<div>\n",
       "<style scoped>\n",
       "    .dataframe tbody tr th:only-of-type {\n",
       "        vertical-align: middle;\n",
       "    }\n",
       "\n",
       "    .dataframe tbody tr th {\n",
       "        vertical-align: top;\n",
       "    }\n",
       "\n",
       "    .dataframe thead th {\n",
       "        text-align: right;\n",
       "    }\n",
       "</style>\n",
       "<table border=\"1\" class=\"dataframe\">\n",
       "  <thead>\n",
       "    <tr style=\"text-align: right;\">\n",
       "      <th></th>\n",
       "      <th>file_path</th>\n",
       "      <th>file_name</th>\n",
       "      <th>class_name</th>\n",
       "      <th>class_ID</th>\n",
       "      <th>y</th>\n",
       "      <th>sr</th>\n",
       "      <th>spectrogram</th>\n",
       "      <th>shape</th>\n",
       "      <th>augmentation</th>\n",
       "    </tr>\n",
       "  </thead>\n",
       "  <tbody>\n",
       "    <tr>\n",
       "      <th>0</th>\n",
       "      <td>a\\a1.wav</td>\n",
       "      <td>a1.wav</td>\n",
       "      <td>a</td>\n",
       "      <td>0</td>\n",
       "      <td>[-0.00044090126, -0.0005725771, -0.0003972128,...</td>\n",
       "      <td>22050</td>\n",
       "      <td>[[1.4596096e-05, 0.00024260356, 0.00096791255,...</td>\n",
       "      <td>(128, 52)</td>\n",
       "      <td>None</td>\n",
       "    </tr>\n",
       "    <tr>\n",
       "      <th>1</th>\n",
       "      <td>a\\a10.wav</td>\n",
       "      <td>a10.wav</td>\n",
       "      <td>a</td>\n",
       "      <td>0</td>\n",
       "      <td>[0.025644582, 0.03873189, 0.034305602, 0.03391...</td>\n",
       "      <td>22050</td>\n",
       "      <td>[[0.013701358, 0.003172148, 0.001500244, 0.001...</td>\n",
       "      <td>(128, 66)</td>\n",
       "      <td>None</td>\n",
       "    </tr>\n",
       "    <tr>\n",
       "      <th>2</th>\n",
       "      <td>a\\a100.wav</td>\n",
       "      <td>a100.wav</td>\n",
       "      <td>a</td>\n",
       "      <td>0</td>\n",
       "      <td>[-0.00018296344, -0.0002981358, -0.0002974281,...</td>\n",
       "      <td>22050</td>\n",
       "      <td>[[0.0003008564, 0.00028734427, 0.00024939654, ...</td>\n",
       "      <td>(128, 81)</td>\n",
       "      <td>None</td>\n",
       "    </tr>\n",
       "    <tr>\n",
       "      <th>3</th>\n",
       "      <td>a\\a101.wav</td>\n",
       "      <td>a101.wav</td>\n",
       "      <td>a</td>\n",
       "      <td>0</td>\n",
       "      <td>[0.0004918799, 0.00016076537, -0.00018280663, ...</td>\n",
       "      <td>22050</td>\n",
       "      <td>[[0.0050224112, 0.005019856, 0.004343026, 0.00...</td>\n",
       "      <td>(128, 71)</td>\n",
       "      <td>None</td>\n",
       "    </tr>\n",
       "    <tr>\n",
       "      <th>4</th>\n",
       "      <td>a\\a102.wav</td>\n",
       "      <td>a102.wav</td>\n",
       "      <td>a</td>\n",
       "      <td>0</td>\n",
       "      <td>[-0.0071322983, -0.010516543, -0.008813906, -0...</td>\n",
       "      <td>22050</td>\n",
       "      <td>[[0.004694343, 0.0048317523, 0.0040243855, 0.0...</td>\n",
       "      <td>(128, 77)</td>\n",
       "      <td>None</td>\n",
       "    </tr>\n",
       "  </tbody>\n",
       "</table>\n",
       "</div>"
      ],
      "text/plain": [
       "    file_path file_name class_name  class_ID  \\\n",
       "0    a\\a1.wav    a1.wav          a         0   \n",
       "1   a\\a10.wav   a10.wav          a         0   \n",
       "2  a\\a100.wav  a100.wav          a         0   \n",
       "3  a\\a101.wav  a101.wav          a         0   \n",
       "4  a\\a102.wav  a102.wav          a         0   \n",
       "\n",
       "                                                   y     sr  \\\n",
       "0  [-0.00044090126, -0.0005725771, -0.0003972128,...  22050   \n",
       "1  [0.025644582, 0.03873189, 0.034305602, 0.03391...  22050   \n",
       "2  [-0.00018296344, -0.0002981358, -0.0002974281,...  22050   \n",
       "3  [0.0004918799, 0.00016076537, -0.00018280663, ...  22050   \n",
       "4  [-0.0071322983, -0.010516543, -0.008813906, -0...  22050   \n",
       "\n",
       "                                         spectrogram      shape augmentation  \n",
       "0  [[1.4596096e-05, 0.00024260356, 0.00096791255,...  (128, 52)         None  \n",
       "1  [[0.013701358, 0.003172148, 0.001500244, 0.001...  (128, 66)         None  \n",
       "2  [[0.0003008564, 0.00028734427, 0.00024939654, ...  (128, 81)         None  \n",
       "3  [[0.0050224112, 0.005019856, 0.004343026, 0.00...  (128, 71)         None  \n",
       "4  [[0.004694343, 0.0048317523, 0.0040243855, 0.0...  (128, 77)         None  "
      ]
     },
     "execution_count": 36,
     "metadata": {},
     "output_type": "execute_result"
    }
   ],
   "source": [
    "data_df_augmented_raw.head()"
   ]
  },
  {
   "cell_type": "code",
   "execution_count": 37,
   "metadata": {},
   "outputs": [],
   "source": [
    "data_df_augmented_raw.to_csv(os.path.join(METADATA_DIR_AUGMENTED_RAW, 'data.csv'), index=False)\n",
    "data_df_augmented_raw.to_pickle(os.path.join(METADATA_DIR_AUGMENTED_RAW, 'data.pkl'))"
   ]
  },
  {
   "cell_type": "code",
   "execution_count": 38,
   "metadata": {},
   "outputs": [],
   "source": [
    "data_df_augmented_raw = pd.read_pickle(os.path.join(METADATA_DIR_AUGMENTED_RAW, 'data.pkl'))"
   ]
  },
  {
   "cell_type": "code",
   "execution_count": 39,
   "metadata": {},
   "outputs": [],
   "source": [
    "@df_info\n",
    "def clean_shape(df):\n",
    "    max_shape = df['spectrogram'].map(lambda x: x.shape).value_counts().index[0]\n",
    "    print(f\"The most frequent shape is {max_shape}\")\n",
    "    df['shape'] = df['spectrogram'].map(lambda x: x.shape)\n",
    "    df = df[df['shape']==max_shape]\n",
    "    df.drop(columns='shape', inplace=True)\n",
    "    df.reset_index(drop=True, inplace=True)\n",
    "    return df\n",
    "\n",
    "@df_info\n",
    "def process_augmented(df):\n",
    "    df = (df.pipe(clean_shape)\n",
    "            .pipe(over_sample)\n",
    "    )\n",
    "    df = df[['spectrogram','class_ID', 'class_name', 'augmentation']]\n",
    "    \n",
    "    return df\n",
    "\n",
    "#Over sampling data\n",
    "@df_info\n",
    "def over_sample(df):\n",
    "    oversample = RandomOverSampler(sampling_strategy='auto')\n",
    "    X, y = df[['spectrogram', 'augmentation']].values, df['class_ID'].values\n",
    "#     X = X.reshape(-1, 1)\n",
    "    X, y = oversample.fit_resample(X, y)\n",
    "    df = pd.DataFrame()\n",
    "    df['spectrogram'] = pd.Series([np.array(x[0]) for x in X])\n",
    "    df['augmentation'] = pd.Series([np.array(x[1]) for x in X])\n",
    "    df['augmentation'] = df['augmentation'].map(lambda x: str(x))\n",
    "    df['class_ID'] = pd.Series(y)\n",
    "    df['class_name'] = df['class_ID'].map(lambda x: get_class(x))\n",
    "    return df"
   ]
  },
  {
   "cell_type": "code",
   "execution_count": 40,
   "metadata": {},
   "outputs": [
    {
     "name": "stdout",
     "output_type": "stream",
     "text": [
      "The most frequent shape is (128, 87)\n",
      "After applying clean_shape, shape of df = (1931, 8)\n",
      "Columns of df are Index(['file_path', 'file_name', 'class_name', 'class_ID', 'y', 'sr',\n",
      "       'spectrogram', 'shape', 'augmentation'],\n",
      "      dtype='object')\n",
      "\n",
      "After applying over_sample, shape of df = (3460, 4)\n",
      "Columns of df are Index(['file_path', 'file_name', 'class_name', 'class_ID', 'y', 'sr',\n",
      "       'spectrogram', 'augmentation'],\n",
      "      dtype='object')\n",
      "\n",
      "After applying process_augmented, shape of df = (3460, 4)\n",
      "Columns of df are Index(['file_path', 'file_name', 'class_name', 'class_ID', 'y', 'sr',\n",
      "       'spectrogram', 'shape', 'augmentation'],\n",
      "      dtype='object')\n",
      "\n"
     ]
    },
    {
     "name": "stderr",
     "output_type": "stream",
     "text": [
      "C:\\Users\\Shiva Kumar\\AppData\\Local\\Temp\\ipykernel_20200\\795894737.py:7: SettingWithCopyWarning: \n",
      "A value is trying to be set on a copy of a slice from a DataFrame\n",
      "\n",
      "See the caveats in the documentation: https://pandas.pydata.org/pandas-docs/stable/user_guide/indexing.html#returning-a-view-versus-a-copy\n",
      "  df.drop(columns='shape', inplace=True)\n"
     ]
    }
   ],
   "source": [
    "data_df_augmented_processed = process_augmented(data_df_augmented_raw)"
   ]
  },
  {
   "cell_type": "code",
   "execution_count": 41,
   "metadata": {},
   "outputs": [],
   "source": [
    "data_df_augmented_processed.to_csv(os.path.join(METADATA_DIR_AUGMENTED_PROCESSED, 'data.csv'), index=False)\n",
    "data_df_augmented_processed.to_pickle(os.path.join(METADATA_DIR_AUGMENTED_PROCESSED, 'data.pkl'))\n"
   ]
  },
  {
   "cell_type": "code",
   "execution_count": 42,
   "metadata": {},
   "outputs": [
    {
     "name": "stdout",
     "output_type": "stream",
     "text": [
      "After applying get_count, shape of df = (10,)\n",
      "Columns of df are Index(['spectrogram', 'class_ID', 'class_name', 'augmentation'], dtype='object')\n",
      "\n",
      "class_name\n",
      "a     346\n",
      "am    346\n",
      "bm    346\n",
      "c     346\n",
      "d     346\n",
      "dm    346\n",
      "e     346\n",
      "em    346\n",
      "f     346\n",
      "g     346\n",
      "Name: count, dtype: int64\n"
     ]
    }
   ],
   "source": [
    "print(get_count(data_df_augmented_processed))"
   ]
  },
  {
   "cell_type": "code",
   "execution_count": 43,
   "metadata": {},
   "outputs": [],
   "source": [
    "dataset = pd.read_pickle(os.path.join(METADATA_DIR_AUGMENTED_PROCESSED, 'data.pkl'))\n"
   ]
  },
  {
   "cell_type": "code",
   "execution_count": 44,
   "metadata": {},
   "outputs": [
    {
     "name": "stdout",
     "output_type": "stream",
     "text": [
      "Number of samples:  3460\n"
     ]
    }
   ],
   "source": [
    "print(\"Number of samples: \", len(dataset))"
   ]
  },
  {
   "cell_type": "code",
   "execution_count": 45,
   "metadata": {},
   "outputs": [
    {
     "data": {
      "text/plain": [
       "spectrogram     [[0.0047523906, 0.004513992, 0.0045696595, 0.0...\n",
       "class_ID                                                        0\n",
       "class_name                                                      a\n",
       "augmentation                                                 None\n",
       "Name: 0, dtype: object"
      ]
     },
     "execution_count": 45,
     "metadata": {},
     "output_type": "execute_result"
    }
   ],
   "source": [
    "dataset.iloc[0]"
   ]
  },
  {
   "cell_type": "code",
   "execution_count": 46,
   "metadata": {},
   "outputs": [
    {
     "data": {
      "text/plain": [
       "(128, 87)"
      ]
     },
     "execution_count": 46,
     "metadata": {},
     "output_type": "execute_result"
    }
   ],
   "source": [
    "dataset['spectrogram'].iloc[0].shape"
   ]
  },
  {
   "cell_type": "code",
   "execution_count": 47,
   "metadata": {},
   "outputs": [
    {
     "name": "stdout",
     "output_type": "stream",
     "text": [
      "Number of training samples is 2768\n",
      "Number of testing samples is 692\n",
      "                                            spectrogram  class_ID class_name  \\\n",
      "665   [[0.0042915433, 0.00513264, 0.0040251305, 0.00...         0          a   \n",
      "410   [[0.0074316473, 0.007509767, 0.0061198757, 0.0...         6          e   \n",
      "1894  [[0.007241904, 0.00870543, 0.0060592033, 0.004...         9          g   \n",
      "1575  [[0.026117006, 0.012626257, 0.005709871, 0.004...         4          d   \n",
      "2419  [[2.5213429e-05, 0.00032240336, 0.0008253861, ...         2         bm   \n",
      "578   [[0.006907987, 0.007465108, 0.014432898, 0.021...         9          g   \n",
      "602   [[0.010945355, 0.006587258, 0.005281261, 0.005...         9          g   \n",
      "192   [[0.2045653, 0.062573306, 0.0054819803, 0.0056...         3          c   \n",
      "3312  [[0.009869927, 0.004595743, 0.0069185873, 0.00...         8          f   \n",
      "299   [[0.00043750665, 0.0004402494, 0.00025882275, ...         4          d   \n",
      "\n",
      "     augmentation  \n",
      "665     pitch_250  \n",
      "410          None  \n",
      "1894    pitch_200  \n",
      "1575    pitch_200  \n",
      "2419     speed_81  \n",
      "578          None  \n",
      "602          None  \n",
      "192          None  \n",
      "3312         None  \n",
      "299          None  \n",
      "                                          spectrogram  class_ID class_name  \\\n",
      "1   [[0.007935312, 0.009195907, 0.0041631414, 0.00...         0          a   \n",
      "4   [[0.00042518272, 0.00048722717, 0.0003344478, ...         0          a   \n",
      "11  [[0.000654014, 0.0006707841, 0.00063801324, 0....         0          a   \n",
      "16  [[0.00030390857, 0.00036621865, 0.0003563836, ...         0          a   \n",
      "19  [[0.00036142257, 0.00047406525, 0.0007132278, ...         0          a   \n",
      "21  [[8.2261286e-05, 6.553833e-05, 0.00025210707, ...         0          a   \n",
      "34  [[0.009080363, 0.0088303685, 0.01579431, 0.011...         1         am   \n",
      "35  [[0.0068139145, 0.008772482, 0.006955781, 0.00...         1         am   \n",
      "36  [[0.0059204088, 0.006823104, 0.008190805, 0.00...         1         am   \n",
      "38  [[0.01223254, 0.006064368, 0.0062395358, 0.006...         1         am   \n",
      "\n",
      "   augmentation  \n",
      "1          None  \n",
      "4          None  \n",
      "11         None  \n",
      "16         None  \n",
      "19         None  \n",
      "21         None  \n",
      "34         None  \n",
      "35         None  \n",
      "36         None  \n",
      "38         None  \n"
     ]
    }
   ],
   "source": [
    "np.random.seed(42)\n",
    "sample = np.random.choice(dataset.index, size=int(len(dataset)*0.8), replace=False)\n",
    "train_data, test_data = dataset.iloc[sample], dataset.drop(sample)\n",
    "\n",
    "print(\"Number of training samples is\", len(train_data))\n",
    "print(\"Number of testing samples is\", len(test_data))\n",
    "print(train_data[:10])\n",
    "print(test_data[:10])"
   ]
  },
  {
   "cell_type": "code",
   "execution_count": 48,
   "metadata": {},
   "outputs": [
    {
     "data": {
      "text/plain": [
       "array([[4.2915433e-03, 5.1326398e-03, 4.0251305e-03, ..., 4.0479354e-03,\n",
       "        3.4223062e-03, 2.2110706e-03],\n",
       "       [1.1900981e-03, 8.8806869e-04, 3.7031554e-04, ..., 1.3748500e-04,\n",
       "        2.8961783e-04, 1.3347667e-04],\n",
       "       [5.1884295e-04, 2.7734798e-03, 2.2764495e-03, ..., 4.4160767e-04,\n",
       "        2.0541307e-04, 1.0287377e-04],\n",
       "       ...,\n",
       "       [4.6952432e-03, 8.5646929e-03, 3.0891590e-03, ..., 4.0243785e-06,\n",
       "        3.1428578e-06, 1.3520664e-06],\n",
       "       [1.5282540e-03, 3.9637187e-03, 2.8330700e-03, ..., 1.9064998e-06,\n",
       "        1.2762301e-06, 4.0001274e-07],\n",
       "       [1.3269915e-04, 1.8355921e-04, 7.4094511e-05, ..., 1.4629707e-07,\n",
       "        7.6093734e-08, 6.0915255e-08]], dtype=float32)"
      ]
     },
     "execution_count": 48,
     "metadata": {},
     "output_type": "execute_result"
    }
   ],
   "source": [
    "train_data['spectrogram'].iloc[0]"
   ]
  },
  {
   "cell_type": "code",
   "execution_count": 49,
   "metadata": {},
   "outputs": [
    {
     "name": "stdout",
     "output_type": "stream",
     "text": [
      "spectrogram     [[0.0042915433, 0.00513264, 0.0040251305, 0.00...\n",
      "class_ID                                                        0\n",
      "class_name                                                      a\n",
      "augmentation                                            pitch_250\n",
      "Name: 665, dtype: object\n",
      "(128, 87)\n",
      "0.00513264\n",
      "0\n"
     ]
    },
    {
     "name": "stderr",
     "output_type": "stream",
     "text": [
      "C:\\Users\\Shiva Kumar\\AppData\\Local\\Temp\\ipykernel_20200\\2407034731.py:2: FutureWarning: Series.__getitem__ treating keys as positions is deprecated. In a future version, integer keys will always be treated as labels (consistent with DataFrame behavior). To access a value by position, use `ser.iloc[pos]`\n",
      "  print(train_data.iloc[0][0].shape)   #shape of input image\n",
      "C:\\Users\\Shiva Kumar\\AppData\\Local\\Temp\\ipykernel_20200\\2407034731.py:3: FutureWarning: Series.__getitem__ treating keys as positions is deprecated. In a future version, integer keys will always be treated as labels (consistent with DataFrame behavior). To access a value by position, use `ser.iloc[pos]`\n",
      "  print(train_data.iloc[0][0][0][1])\n",
      "C:\\Users\\Shiva Kumar\\AppData\\Local\\Temp\\ipykernel_20200\\2407034731.py:4: FutureWarning: Series.__getitem__ treating keys as positions is deprecated. In a future version, integer keys will always be treated as labels (consistent with DataFrame behavior). To access a value by position, use `ser.iloc[pos]`\n",
      "  print(train_data.iloc[0][1])\n"
     ]
    }
   ],
   "source": [
    "print(train_data.iloc[0])\n",
    "print(train_data.iloc[0][0].shape)   #shape of input image\n",
    "print(train_data.iloc[0][0][0][1])\n",
    "print(train_data.iloc[0][1]) "
   ]
  },
  {
   "cell_type": "code",
   "execution_count": 50,
   "metadata": {},
   "outputs": [
    {
     "name": "stdout",
     "output_type": "stream",
     "text": [
      "665     [[0.0042915433, 0.00513264, 0.0040251305, 0.00...\n",
      "410     [[0.0074316473, 0.007509767, 0.0061198757, 0.0...\n",
      "1894    [[0.007241904, 0.00870543, 0.0060592033, 0.004...\n",
      "1575    [[0.026117006, 0.012626257, 0.005709871, 0.004...\n",
      "2419    [[2.5213429e-05, 0.00032240336, 0.0008253861, ...\n",
      "578     [[0.006907987, 0.007465108, 0.014432898, 0.021...\n",
      "602     [[0.010945355, 0.006587258, 0.005281261, 0.005...\n",
      "192     [[0.2045653, 0.062573306, 0.0054819803, 0.0056...\n",
      "3312    [[0.009869927, 0.004595743, 0.0069185873, 0.00...\n",
      "299     [[0.00043750665, 0.0004402494, 0.00025882275, ...\n",
      "Name: spectrogram, dtype: object\n",
      "665     0\n",
      "410     6\n",
      "1894    9\n",
      "1575    4\n",
      "2419    2\n",
      "578     9\n",
      "602     9\n",
      "192     3\n",
      "3312    8\n",
      "299     4\n",
      "Name: class_ID, dtype: int64\n"
     ]
    }
   ],
   "source": [
    "X_train = train_data['spectrogram']\n",
    "y_train = train_data['class_ID']\n",
    "X_test = test_data['spectrogram']\n",
    "y_test = test_data['class_ID']\n",
    "\n",
    "print(X_train[:10])\n",
    "print(y_train[:10])"
   ]
  },
  {
   "cell_type": "code",
   "execution_count": 51,
   "metadata": {},
   "outputs": [],
   "source": [
    "X_train = np.array([x.reshape( (128, 87, 1) ) for x in X_train])\n",
    "X_test = np.array([x.reshape( (128, 87, 1) ) for x in X_test])"
   ]
  },
  {
   "cell_type": "code",
   "execution_count": 52,
   "metadata": {},
   "outputs": [
    {
     "name": "stdout",
     "output_type": "stream",
     "text": [
      "(128, 87, 1)\n",
      "0\n"
     ]
    }
   ],
   "source": [
    "print(X_train[0].shape)\n",
    "print(y_train[0])"
   ]
  },
  {
   "cell_type": "code",
   "execution_count": 53,
   "metadata": {},
   "outputs": [],
   "source": [
    "y_train = np.array(keras.utils.to_categorical(y_train, 10))\n",
    "y_test_values=y_test\n",
    "y_test = np.array(keras.utils.to_categorical(y_test, 10))"
   ]
  },
  {
   "cell_type": "code",
   "execution_count": 54,
   "metadata": {},
   "outputs": [
    {
     "name": "stdout",
     "output_type": "stream",
     "text": [
      "[1. 0. 0. 0. 0. 0. 0. 0. 0. 0.]\n"
     ]
    }
   ],
   "source": [
    "print(y_train[0])"
   ]
  },
  {
   "cell_type": "code",
   "execution_count": 55,
   "metadata": {},
   "outputs": [
    {
     "name": "stdout",
     "output_type": "stream",
     "text": [
      "WARNING:tensorflow:From c:\\Users\\Shiva Kumar\\AppData\\Local\\Programs\\Python\\Python311\\Lib\\site-packages\\keras\\src\\backend.py:873: The name tf.get_default_graph is deprecated. Please use tf.compat.v1.get_default_graph instead.\n",
      "\n",
      "WARNING:tensorflow:From c:\\Users\\Shiva Kumar\\AppData\\Local\\Programs\\Python\\Python311\\Lib\\site-packages\\keras\\src\\layers\\pooling\\max_pooling2d.py:161: The name tf.nn.max_pool is deprecated. Please use tf.nn.max_pool2d instead.\n",
      "\n"
     ]
    }
   ],
   "source": [
    "model = Sequential()\n",
    "input_shape=(128, 87, 1)\n",
    "\n",
    "model.add(Conv2D(24, (5, 5), strides=(1, 1), input_shape=input_shape))\n",
    "model.add(MaxPooling2D((4, 2), strides=(4, 2)))\n",
    "model.add(Activation('relu'))\n",
    "\n",
    "model.add(Conv2D(48, (5, 5), padding=\"valid\"))\n",
    "model.add(MaxPooling2D((4, 2), strides=(4, 2)))\n",
    "model.add(Activation('relu'))\n",
    "\n",
    "model.add(Conv2D(48, (5, 5), padding=\"valid\"))\n",
    "model.add(Activation('relu'))\n",
    "\n",
    "model.add(Flatten())\n",
    "model.add(Dropout(rate=0.4))\n",
    "\n",
    "model.add(Dense(64))\n",
    "model.add(Activation('relu'))\n",
    "model.add(Dropout(rate=0.4))\n",
    "\n",
    "model.add(Dense(10))\n",
    "model.add(Activation('softmax'))"
   ]
  },
  {
   "cell_type": "code",
   "execution_count": 56,
   "metadata": {},
   "outputs": [
    {
     "name": "stdout",
     "output_type": "stream",
     "text": [
      "Model: \"sequential\"\n",
      "_________________________________________________________________\n",
      " Layer (type)                Output Shape              Param #   \n",
      "=================================================================\n",
      " conv2d (Conv2D)             (None, 124, 83, 24)       624       \n",
      "                                                                 \n",
      " max_pooling2d (MaxPooling2  (None, 31, 41, 24)        0         \n",
      " D)                                                              \n",
      "                                                                 \n",
      " activation (Activation)     (None, 31, 41, 24)        0         \n",
      "                                                                 \n",
      " conv2d_1 (Conv2D)           (None, 27, 37, 48)        28848     \n",
      "                                                                 \n",
      " max_pooling2d_1 (MaxPoolin  (None, 6, 18, 48)         0         \n",
      " g2D)                                                            \n",
      "                                                                 \n",
      " activation_1 (Activation)   (None, 6, 18, 48)         0         \n",
      "                                                                 \n",
      " conv2d_2 (Conv2D)           (None, 2, 14, 48)         57648     \n",
      "                                                                 \n",
      " activation_2 (Activation)   (None, 2, 14, 48)         0         \n",
      "                                                                 \n",
      " flatten (Flatten)           (None, 1344)              0         \n",
      "                                                                 \n",
      " dropout (Dropout)           (None, 1344)              0         \n",
      "                                                                 \n",
      " dense (Dense)               (None, 64)                86080     \n",
      "                                                                 \n",
      " activation_3 (Activation)   (None, 64)                0         \n",
      "                                                                 \n",
      " dropout_1 (Dropout)         (None, 64)                0         \n",
      "                                                                 \n",
      " dense_1 (Dense)             (None, 10)                650       \n",
      "                                                                 \n",
      " activation_4 (Activation)   (None, 10)                0         \n",
      "                                                                 \n",
      "=================================================================\n",
      "Total params: 173850 (679.10 KB)\n",
      "Trainable params: 173850 (679.10 KB)\n",
      "Non-trainable params: 0 (0.00 Byte)\n",
      "_________________________________________________________________\n"
     ]
    }
   ],
   "source": [
    "model.summary()"
   ]
  },
  {
   "cell_type": "code",
   "execution_count": 57,
   "metadata": {},
   "outputs": [
    {
     "name": "stdout",
     "output_type": "stream",
     "text": [
      "WARNING:tensorflow:From c:\\Users\\Shiva Kumar\\AppData\\Local\\Programs\\Python\\Python311\\Lib\\site-packages\\keras\\src\\optimizers\\__init__.py:309: The name tf.train.Optimizer is deprecated. Please use tf.compat.v1.train.Optimizer instead.\n",
      "\n",
      "Epoch 1/100\n",
      "WARNING:tensorflow:From c:\\Users\\Shiva Kumar\\AppData\\Local\\Programs\\Python\\Python311\\Lib\\site-packages\\keras\\src\\utils\\tf_utils.py:492: The name tf.ragged.RaggedTensorValue is deprecated. Please use tf.compat.v1.ragged.RaggedTensorValue instead.\n",
      "\n",
      "WARNING:tensorflow:From c:\\Users\\Shiva Kumar\\AppData\\Local\\Programs\\Python\\Python311\\Lib\\site-packages\\keras\\src\\engine\\base_layer_utils.py:384: The name tf.executing_eagerly_outside_functions is deprecated. Please use tf.compat.v1.executing_eagerly_outside_functions instead.\n",
      "\n",
      "139/139 [==============================] - 6s 32ms/step - loss: 2.2149 - accuracy: 0.1832 - precision: 0.2658 - recall: 0.0241 - fmeasure: 0.0431 - val_loss: 2.0813 - val_accuracy: 0.2153 - val_precision: 0.2552 - val_recall: 0.0357 - val_fmeasure: 0.0608\n",
      "Epoch 2/100\n",
      "139/139 [==============================] - 4s 26ms/step - loss: 2.0673 - accuracy: 0.2258 - precision: 0.4710 - recall: 0.0577 - fmeasure: 0.0998 - val_loss: 2.0573 - val_accuracy: 0.2240 - val_precision: 0.2719 - val_recall: 0.0429 - val_fmeasure: 0.0723\n",
      "Epoch 3/100\n",
      "139/139 [==============================] - 4s 26ms/step - loss: 1.9715 - accuracy: 0.2579 - precision: 0.6500 - recall: 0.0991 - fmeasure: 0.1662 - val_loss: 1.9050 - val_accuracy: 0.2789 - val_precision: 0.5128 - val_recall: 0.1200 - val_fmeasure: 0.1839\n",
      "Epoch 4/100\n",
      "139/139 [==============================] - 4s 27ms/step - loss: 1.9084 - accuracy: 0.2894 - precision: 0.7401 - recall: 0.1405 - fmeasure: 0.2297 - val_loss: 1.8960 - val_accuracy: 0.2977 - val_precision: 0.6456 - val_recall: 0.1486 - val_fmeasure: 0.2295\n",
      "Epoch 5/100\n",
      "139/139 [==============================] - 4s 26ms/step - loss: 1.8261 - accuracy: 0.3262 - precision: 0.8585 - recall: 0.1799 - fmeasure: 0.2894 - val_loss: 1.8080 - val_accuracy: 0.3107 - val_precision: 0.6560 - val_recall: 0.2038 - val_fmeasure: 0.2916\n",
      "Epoch 6/100\n",
      "139/139 [==============================] - 4s 26ms/step - loss: 1.7786 - accuracy: 0.3454 - precision: 0.8621 - recall: 0.2086 - fmeasure: 0.3295 - val_loss: 1.7382 - val_accuracy: 0.3338 - val_precision: 0.7824 - val_recall: 0.2276 - val_fmeasure: 0.3227\n",
      "Epoch 7/100\n",
      "139/139 [==============================] - 4s 27ms/step - loss: 1.7054 - accuracy: 0.3638 - precision: 0.9090 - recall: 0.2365 - fmeasure: 0.3672 - val_loss: 1.6642 - val_accuracy: 0.3873 - val_precision: 0.8575 - val_recall: 0.2605 - val_fmeasure: 0.3675\n",
      "Epoch 8/100\n",
      "139/139 [==============================] - 4s 26ms/step - loss: 1.6563 - accuracy: 0.4007 - precision: 0.9047 - recall: 0.2576 - fmeasure: 0.3944 - val_loss: 1.7172 - val_accuracy: 0.4408 - val_precision: 0.8371 - val_recall: 0.2490 - val_fmeasure: 0.3505\n",
      "Epoch 9/100\n",
      "139/139 [==============================] - 4s 25ms/step - loss: 1.7451 - accuracy: 0.3956 - precision: 0.8677 - recall: 0.2385 - fmeasure: 0.3652 - val_loss: 1.6389 - val_accuracy: 0.4682 - val_precision: 0.8311 - val_recall: 0.2505 - val_fmeasure: 0.3561\n",
      "Epoch 10/100\n",
      "139/139 [==============================] - 4s 28ms/step - loss: 1.5915 - accuracy: 0.4364 - precision: 0.9194 - recall: 0.2658 - fmeasure: 0.4037 - val_loss: 1.5137 - val_accuracy: 0.4899 - val_precision: 0.8454 - val_recall: 0.2762 - val_fmeasure: 0.3898\n",
      "Epoch 11/100\n",
      "139/139 [==============================] - 4s 26ms/step - loss: 1.4615 - accuracy: 0.5004 - precision: 0.9125 - recall: 0.2957 - fmeasure: 0.4373 - val_loss: 1.3893 - val_accuracy: 0.5650 - val_precision: 0.8495 - val_recall: 0.3076 - val_fmeasure: 0.4221\n",
      "Epoch 12/100\n",
      "139/139 [==============================] - 4s 28ms/step - loss: 1.3262 - accuracy: 0.5611 - precision: 0.9002 - recall: 0.3369 - fmeasure: 0.4825 - val_loss: 1.2273 - val_accuracy: 0.5795 - val_precision: 0.9102 - val_recall: 0.3214 - val_fmeasure: 0.4417\n",
      "Epoch 13/100\n",
      "139/139 [==============================] - 4s 28ms/step - loss: 1.2729 - accuracy: 0.5806 - precision: 0.8488 - recall: 0.3640 - fmeasure: 0.5000 - val_loss: 1.1399 - val_accuracy: 0.6185 - val_precision: 0.8428 - val_recall: 0.3557 - val_fmeasure: 0.4714\n",
      "Epoch 14/100\n",
      "139/139 [==============================] - 4s 27ms/step - loss: 1.1804 - accuracy: 0.5979 - precision: 0.8277 - recall: 0.4013 - fmeasure: 0.5336 - val_loss: 0.9893 - val_accuracy: 0.6618 - val_precision: 0.9158 - val_recall: 0.4671 - val_fmeasure: 0.5875\n",
      "Epoch 15/100\n",
      "139/139 [==============================] - 4s 28ms/step - loss: 0.9724 - accuracy: 0.6550 - precision: 0.8443 - recall: 0.4883 - fmeasure: 0.6144 - val_loss: 0.8782 - val_accuracy: 0.7197 - val_precision: 0.9153 - val_recall: 0.5143 - val_fmeasure: 0.6401\n",
      "Epoch 16/100\n",
      "139/139 [==============================] - 4s 27ms/step - loss: 0.9765 - accuracy: 0.6756 - precision: 0.8309 - recall: 0.5124 - fmeasure: 0.6298 - val_loss: 0.8075 - val_accuracy: 0.7197 - val_precision: 0.8995 - val_recall: 0.5324 - val_fmeasure: 0.6495\n",
      "Epoch 17/100\n",
      "139/139 [==============================] - 4s 27ms/step - loss: 0.8439 - accuracy: 0.6926 - precision: 0.8347 - recall: 0.5586 - fmeasure: 0.6651 - val_loss: 0.7241 - val_accuracy: 0.7442 - val_precision: 0.8452 - val_recall: 0.6124 - val_fmeasure: 0.6981\n",
      "Epoch 18/100\n",
      "139/139 [==============================] - 4s 26ms/step - loss: 0.7478 - accuracy: 0.7327 - precision: 0.8564 - recall: 0.6117 - fmeasure: 0.7090 - val_loss: 0.6897 - val_accuracy: 0.7717 - val_precision: 0.8602 - val_recall: 0.6295 - val_fmeasure: 0.7181\n",
      "Epoch 19/100\n",
      "139/139 [==============================] - 4s 26ms/step - loss: 0.7756 - accuracy: 0.7478 - precision: 0.8521 - recall: 0.6365 - fmeasure: 0.7255 - val_loss: 0.6264 - val_accuracy: 0.7717 - val_precision: 0.8633 - val_recall: 0.6795 - val_fmeasure: 0.7528\n",
      "Epoch 20/100\n",
      "139/139 [==============================] - 4s 26ms/step - loss: 0.6497 - accuracy: 0.7616 - precision: 0.8557 - recall: 0.6617 - fmeasure: 0.7435 - val_loss: 0.5594 - val_accuracy: 0.8078 - val_precision: 0.8733 - val_recall: 0.7095 - val_fmeasure: 0.7769\n",
      "Epoch 21/100\n",
      "139/139 [==============================] - 4s 25ms/step - loss: 0.6266 - accuracy: 0.7847 - precision: 0.8705 - recall: 0.6984 - fmeasure: 0.7723 - val_loss: 0.5836 - val_accuracy: 0.8136 - val_precision: 0.8763 - val_recall: 0.7395 - val_fmeasure: 0.7982\n",
      "Epoch 22/100\n",
      "139/139 [==============================] - 3s 24ms/step - loss: 0.5886 - accuracy: 0.7944 - precision: 0.8707 - recall: 0.7058 - fmeasure: 0.7775 - val_loss: 0.4668 - val_accuracy: 0.8483 - val_precision: 0.9081 - val_recall: 0.7686 - val_fmeasure: 0.8264\n",
      "Epoch 23/100\n",
      "139/139 [==============================] - 3s 24ms/step - loss: 0.4881 - accuracy: 0.8212 - precision: 0.8802 - recall: 0.7493 - fmeasure: 0.8073 - val_loss: 0.3922 - val_accuracy: 0.8743 - val_precision: 0.9091 - val_recall: 0.8110 - val_fmeasure: 0.8546\n",
      "Epoch 24/100\n",
      "139/139 [==============================] - 3s 25ms/step - loss: 0.5561 - accuracy: 0.8161 - precision: 0.8792 - recall: 0.7511 - fmeasure: 0.8085 - val_loss: 0.5341 - val_accuracy: 0.8512 - val_precision: 0.8949 - val_recall: 0.7881 - val_fmeasure: 0.8362\n",
      "Epoch 25/100\n",
      "139/139 [==============================] - 3s 25ms/step - loss: 0.6265 - accuracy: 0.7959 - precision: 0.8580 - recall: 0.7214 - fmeasure: 0.7821 - val_loss: 0.4380 - val_accuracy: 0.8512 - val_precision: 0.8965 - val_recall: 0.7924 - val_fmeasure: 0.8390\n",
      "Epoch 26/100\n",
      "139/139 [==============================] - 3s 25ms/step - loss: 0.5495 - accuracy: 0.8327 - precision: 0.8925 - recall: 0.7671 - fmeasure: 0.8236 - val_loss: 0.5068 - val_accuracy: 0.8425 - val_precision: 0.8797 - val_recall: 0.8057 - val_fmeasure: 0.8400\n",
      "Epoch 27/100\n",
      "139/139 [==============================] - 4s 28ms/step - loss: 0.5179 - accuracy: 0.8194 - precision: 0.8747 - recall: 0.7558 - fmeasure: 0.8090 - val_loss: 0.4985 - val_accuracy: 0.8584 - val_precision: 0.8915 - val_recall: 0.8262 - val_fmeasure: 0.8565\n",
      "Epoch 28/100\n",
      "139/139 [==============================] - 4s 26ms/step - loss: 0.3998 - accuracy: 0.8519 - precision: 0.8932 - recall: 0.8104 - fmeasure: 0.8485 - val_loss: 0.2901 - val_accuracy: 0.9118 - val_precision: 0.9357 - val_recall: 0.8833 - val_fmeasure: 0.9078\n",
      "Epoch 29/100\n",
      "139/139 [==============================] - 4s 26ms/step - loss: 0.3870 - accuracy: 0.8631 - precision: 0.9046 - recall: 0.8228 - fmeasure: 0.8608 - val_loss: 0.3803 - val_accuracy: 0.8887 - val_precision: 0.9161 - val_recall: 0.8624 - val_fmeasure: 0.8873\n",
      "Epoch 30/100\n",
      "139/139 [==============================] - 4s 26ms/step - loss: 0.4727 - accuracy: 0.8519 - precision: 0.8900 - recall: 0.8158 - fmeasure: 0.8503 - val_loss: 0.5655 - val_accuracy: 0.8699 - val_precision: 0.9096 - val_recall: 0.7824 - val_fmeasure: 0.8377\n",
      "Epoch 31/100\n",
      "139/139 [==============================] - 4s 27ms/step - loss: 0.3852 - accuracy: 0.8624 - precision: 0.8955 - recall: 0.8246 - fmeasure: 0.8575 - val_loss: 0.2911 - val_accuracy: 0.9090 - val_precision: 0.9230 - val_recall: 0.8824 - val_fmeasure: 0.9013\n",
      "Epoch 32/100\n",
      "139/139 [==============================] - 4s 27ms/step - loss: 0.3276 - accuracy: 0.8783 - precision: 0.9059 - recall: 0.8487 - fmeasure: 0.8756 - val_loss: 0.2988 - val_accuracy: 0.9090 - val_precision: 0.9257 - val_recall: 0.9024 - val_fmeasure: 0.9137\n",
      "Epoch 33/100\n",
      "139/139 [==============================] - 4s 26ms/step - loss: 0.2877 - accuracy: 0.9003 - precision: 0.9191 - recall: 0.8705 - fmeasure: 0.8934 - val_loss: 0.2660 - val_accuracy: 0.9118 - val_precision: 0.9337 - val_recall: 0.8967 - val_fmeasure: 0.9143\n",
      "Epoch 34/100\n",
      "139/139 [==============================] - 3s 25ms/step - loss: 0.2767 - accuracy: 0.9010 - precision: 0.9219 - recall: 0.8737 - fmeasure: 0.8965 - val_loss: 0.3418 - val_accuracy: 0.9133 - val_precision: 0.9276 - val_recall: 0.9029 - val_fmeasure: 0.9148\n",
      "Epoch 35/100\n",
      "139/139 [==============================] - 4s 25ms/step - loss: 0.3267 - accuracy: 0.8974 - precision: 0.9197 - recall: 0.8759 - fmeasure: 0.8968 - val_loss: 0.4019 - val_accuracy: 0.9032 - val_precision: 0.9109 - val_recall: 0.8995 - val_fmeasure: 0.9051\n",
      "Epoch 36/100\n",
      "139/139 [==============================] - 4s 25ms/step - loss: 0.2975 - accuracy: 0.8970 - precision: 0.9275 - recall: 0.8777 - fmeasure: 0.9012 - val_loss: 0.2364 - val_accuracy: 0.9118 - val_precision: 0.9323 - val_recall: 0.8967 - val_fmeasure: 0.9128\n",
      "Epoch 37/100\n",
      "139/139 [==============================] - 4s 25ms/step - loss: 0.2572 - accuracy: 0.9082 - precision: 0.9281 - recall: 0.8876 - fmeasure: 0.9068 - val_loss: 0.4288 - val_accuracy: 0.9003 - val_precision: 0.9196 - val_recall: 0.8924 - val_fmeasure: 0.9055\n",
      "Epoch 38/100\n",
      "139/139 [==============================] - 4s 25ms/step - loss: 0.3036 - accuracy: 0.9039 - precision: 0.9211 - recall: 0.8833 - fmeasure: 0.9013 - val_loss: 0.2084 - val_accuracy: 0.9422 - val_precision: 0.9525 - val_recall: 0.9295 - val_fmeasure: 0.9405\n",
      "Epoch 39/100\n",
      "139/139 [==============================] - 4s 27ms/step - loss: 0.3858 - accuracy: 0.8970 - precision: 0.9175 - recall: 0.8770 - fmeasure: 0.8961 - val_loss: 0.3133 - val_accuracy: 0.9032 - val_precision: 0.9108 - val_recall: 0.8590 - val_fmeasure: 0.8832\n",
      "Epoch 40/100\n",
      "139/139 [==============================] - 4s 26ms/step - loss: 0.5036 - accuracy: 0.8703 - precision: 0.8994 - recall: 0.8396 - fmeasure: 0.8676 - val_loss: 0.4141 - val_accuracy: 0.8916 - val_precision: 0.9228 - val_recall: 0.8562 - val_fmeasure: 0.8872\n",
      "Epoch 41/100\n",
      "139/139 [==============================] - 4s 26ms/step - loss: 0.3219 - accuracy: 0.8927 - precision: 0.9241 - recall: 0.8705 - fmeasure: 0.8958 - val_loss: 0.2600 - val_accuracy: 0.9090 - val_precision: 0.9144 - val_recall: 0.8767 - val_fmeasure: 0.8944\n",
      "Epoch 42/100\n",
      "139/139 [==============================] - 4s 26ms/step - loss: 0.2679 - accuracy: 0.9144 - precision: 0.9323 - recall: 0.8977 - fmeasure: 0.9140 - val_loss: 0.1959 - val_accuracy: 0.9277 - val_precision: 0.9330 - val_recall: 0.9129 - val_fmeasure: 0.9224\n",
      "Epoch 43/100\n",
      "139/139 [==============================] - 4s 27ms/step - loss: 0.2210 - accuracy: 0.9270 - precision: 0.9442 - recall: 0.9083 - fmeasure: 0.9255 - val_loss: 0.2211 - val_accuracy: 0.9321 - val_precision: 0.9431 - val_recall: 0.9252 - val_fmeasure: 0.9336\n",
      "Epoch 44/100\n",
      "139/139 [==============================] - 4s 28ms/step - loss: 0.2162 - accuracy: 0.9274 - precision: 0.9416 - recall: 0.9135 - fmeasure: 0.9270 - val_loss: 0.1685 - val_accuracy: 0.9393 - val_precision: 0.9478 - val_recall: 0.9300 - val_fmeasure: 0.9386\n",
      "Epoch 45/100\n",
      "139/139 [==============================] - 4s 30ms/step - loss: 0.2102 - accuracy: 0.9321 - precision: 0.9438 - recall: 0.9203 - fmeasure: 0.9316 - val_loss: 0.1390 - val_accuracy: 0.9566 - val_precision: 0.9634 - val_recall: 0.9486 - val_fmeasure: 0.9557\n",
      "Epoch 46/100\n",
      "139/139 [==============================] - 4s 32ms/step - loss: 0.2006 - accuracy: 0.9357 - precision: 0.9491 - recall: 0.9255 - fmeasure: 0.9369 - val_loss: 0.1452 - val_accuracy: 0.9451 - val_precision: 0.9534 - val_recall: 0.9371 - val_fmeasure: 0.9450\n",
      "Epoch 47/100\n",
      "139/139 [==============================] - 4s 27ms/step - loss: 0.2261 - accuracy: 0.9303 - precision: 0.9444 - recall: 0.9173 - fmeasure: 0.9302 - val_loss: 0.1466 - val_accuracy: 0.9465 - val_precision: 0.9537 - val_recall: 0.9429 - val_fmeasure: 0.9481\n",
      "Epoch 48/100\n",
      "139/139 [==============================] - 4s 27ms/step - loss: 0.1628 - accuracy: 0.9429 - precision: 0.9520 - recall: 0.9322 - fmeasure: 0.9417 - val_loss: 0.1261 - val_accuracy: 0.9538 - val_precision: 0.9649 - val_recall: 0.9500 - val_fmeasure: 0.9573\n",
      "Epoch 49/100\n",
      "139/139 [==============================] - 4s 26ms/step - loss: 0.1491 - accuracy: 0.9444 - precision: 0.9567 - recall: 0.9342 - fmeasure: 0.9450 - val_loss: 0.1375 - val_accuracy: 0.9552 - val_precision: 0.9595 - val_recall: 0.9529 - val_fmeasure: 0.9561\n",
      "Epoch 50/100\n",
      "139/139 [==============================] - 3s 25ms/step - loss: 0.1814 - accuracy: 0.9436 - precision: 0.9508 - recall: 0.9378 - fmeasure: 0.9441 - val_loss: 0.2696 - val_accuracy: 0.9422 - val_precision: 0.9477 - val_recall: 0.9357 - val_fmeasure: 0.9415\n",
      "Epoch 51/100\n",
      "139/139 [==============================] - 4s 26ms/step - loss: 0.1974 - accuracy: 0.9408 - precision: 0.9498 - recall: 0.9308 - fmeasure: 0.9399 - val_loss: 0.1387 - val_accuracy: 0.9465 - val_precision: 0.9487 - val_recall: 0.9433 - val_fmeasure: 0.9459\n",
      "Epoch 52/100\n",
      "139/139 [==============================] - 4s 25ms/step - loss: 0.1397 - accuracy: 0.9588 - precision: 0.9663 - recall: 0.9511 - fmeasure: 0.9584 - val_loss: 0.2317 - val_accuracy: 0.9335 - val_precision: 0.9428 - val_recall: 0.9262 - val_fmeasure: 0.9342\n",
      "Epoch 53/100\n",
      "139/139 [==============================] - 4s 26ms/step - loss: 0.1516 - accuracy: 0.9476 - precision: 0.9552 - recall: 0.9410 - fmeasure: 0.9478 - val_loss: 0.1424 - val_accuracy: 0.9624 - val_precision: 0.9641 - val_recall: 0.9543 - val_fmeasure: 0.9590\n",
      "Epoch 54/100\n",
      "139/139 [==============================] - 4s 32ms/step - loss: 0.1166 - accuracy: 0.9606 - precision: 0.9674 - recall: 0.9534 - fmeasure: 0.9602 - val_loss: 0.1375 - val_accuracy: 0.9581 - val_precision: 0.9668 - val_recall: 0.9529 - val_fmeasure: 0.9596\n",
      "Epoch 55/100\n",
      "139/139 [==============================] - 4s 27ms/step - loss: 0.1034 - accuracy: 0.9635 - precision: 0.9703 - recall: 0.9601 - fmeasure: 0.9650 - val_loss: 0.1279 - val_accuracy: 0.9725 - val_precision: 0.9729 - val_recall: 0.9700 - val_fmeasure: 0.9714\n",
      "Epoch 56/100\n",
      "139/139 [==============================] - 4s 27ms/step - loss: 0.1006 - accuracy: 0.9624 - precision: 0.9673 - recall: 0.9565 - fmeasure: 0.9617 - val_loss: 0.1038 - val_accuracy: 0.9682 - val_precision: 0.9714 - val_recall: 0.9671 - val_fmeasure: 0.9692\n",
      "Epoch 57/100\n",
      "139/139 [==============================] - 4s 27ms/step - loss: 0.1053 - accuracy: 0.9632 - precision: 0.9707 - recall: 0.9594 - fmeasure: 0.9648 - val_loss: 0.0908 - val_accuracy: 0.9711 - val_precision: 0.9736 - val_recall: 0.9629 - val_fmeasure: 0.9681\n",
      "Epoch 58/100\n",
      "139/139 [==============================] - 4s 27ms/step - loss: 0.1378 - accuracy: 0.9559 - precision: 0.9588 - recall: 0.9495 - fmeasure: 0.9540 - val_loss: 0.3084 - val_accuracy: 0.9552 - val_precision: 0.9649 - val_recall: 0.9486 - val_fmeasure: 0.9564\n",
      "Epoch 59/100\n",
      "139/139 [==============================] - 4s 27ms/step - loss: 0.2706 - accuracy: 0.9267 - precision: 0.9370 - recall: 0.9182 - fmeasure: 0.9273 - val_loss: 0.2190 - val_accuracy: 0.9494 - val_precision: 0.9617 - val_recall: 0.9286 - val_fmeasure: 0.9444\n",
      "Epoch 60/100\n",
      "139/139 [==============================] - 4s 27ms/step - loss: 0.3017 - accuracy: 0.9440 - precision: 0.9526 - recall: 0.9354 - fmeasure: 0.9437 - val_loss: 0.2492 - val_accuracy: 0.9408 - val_precision: 0.9495 - val_recall: 0.9343 - val_fmeasure: 0.9416\n",
      "Epoch 61/100\n",
      "139/139 [==============================] - 4s 27ms/step - loss: 0.3323 - accuracy: 0.9285 - precision: 0.9384 - recall: 0.9221 - fmeasure: 0.9300 - val_loss: 0.3429 - val_accuracy: 0.9451 - val_precision: 0.9485 - val_recall: 0.9371 - val_fmeasure: 0.9426\n",
      "Epoch 62/100\n",
      "139/139 [==============================] - 4s 28ms/step - loss: 0.3335 - accuracy: 0.9296 - precision: 0.9371 - recall: 0.9189 - fmeasure: 0.9276 - val_loss: 0.1812 - val_accuracy: 0.9480 - val_precision: 0.9535 - val_recall: 0.9414 - val_fmeasure: 0.9472\n",
      "Epoch 63/100\n",
      "139/139 [==============================] - 4s 27ms/step - loss: 0.3685 - accuracy: 0.9285 - precision: 0.9377 - recall: 0.9191 - fmeasure: 0.9281 - val_loss: 0.1860 - val_accuracy: 0.9408 - val_precision: 0.9573 - val_recall: 0.9329 - val_fmeasure: 0.9446\n",
      "Epoch 64/100\n",
      "139/139 [==============================] - 4s 26ms/step - loss: 0.2075 - accuracy: 0.9404 - precision: 0.9489 - recall: 0.9309 - fmeasure: 0.9396 - val_loss: 0.1531 - val_accuracy: 0.9697 - val_precision: 0.9725 - val_recall: 0.9643 - val_fmeasure: 0.9682\n",
      "Epoch 65/100\n",
      "139/139 [==============================] - 4s 27ms/step - loss: 0.1505 - accuracy: 0.9538 - precision: 0.9624 - recall: 0.9478 - fmeasure: 0.9549 - val_loss: 0.2661 - val_accuracy: 0.9610 - val_precision: 0.9680 - val_recall: 0.9514 - val_fmeasure: 0.9592\n",
      "Epoch 66/100\n",
      "139/139 [==============================] - 4s 27ms/step - loss: 0.1504 - accuracy: 0.9592 - precision: 0.9653 - recall: 0.9518 - fmeasure: 0.9583 - val_loss: 0.1112 - val_accuracy: 0.9754 - val_precision: 0.9770 - val_recall: 0.9686 - val_fmeasure: 0.9726\n",
      "Epoch 67/100\n",
      "139/139 [==============================] - 4s 27ms/step - loss: 0.0968 - accuracy: 0.9704 - precision: 0.9745 - recall: 0.9640 - fmeasure: 0.9691 - val_loss: 0.0854 - val_accuracy: 0.9783 - val_precision: 0.9782 - val_recall: 0.9729 - val_fmeasure: 0.9755\n",
      "Epoch 68/100\n",
      "139/139 [==============================] - 4s 26ms/step - loss: 0.1041 - accuracy: 0.9657 - precision: 0.9682 - recall: 0.9619 - fmeasure: 0.9649 - val_loss: 0.1177 - val_accuracy: 0.9595 - val_precision: 0.9625 - val_recall: 0.9586 - val_fmeasure: 0.9605\n",
      "Epoch 69/100\n",
      "139/139 [==============================] - 4s 26ms/step - loss: 0.0826 - accuracy: 0.9718 - precision: 0.9765 - recall: 0.9691 - fmeasure: 0.9727 - val_loss: 0.1026 - val_accuracy: 0.9783 - val_precision: 0.9814 - val_recall: 0.9757 - val_fmeasure: 0.9785\n",
      "Epoch 70/100\n",
      "139/139 [==============================] - 4s 26ms/step - loss: 0.0743 - accuracy: 0.9729 - precision: 0.9776 - recall: 0.9705 - fmeasure: 0.9739 - val_loss: 0.1126 - val_accuracy: 0.9754 - val_precision: 0.9771 - val_recall: 0.9757 - val_fmeasure: 0.9764\n",
      "Epoch 71/100\n",
      "139/139 [==============================] - 4s 26ms/step - loss: 0.4955 - accuracy: 0.9137 - precision: 0.9229 - recall: 0.9050 - fmeasure: 0.9136 - val_loss: 0.2230 - val_accuracy: 0.9379 - val_precision: 0.9405 - val_recall: 0.9186 - val_fmeasure: 0.9291\n",
      "Epoch 72/100\n",
      "139/139 [==============================] - 4s 26ms/step - loss: 0.1971 - accuracy: 0.9491 - precision: 0.9569 - recall: 0.9392 - fmeasure: 0.9477 - val_loss: 0.1262 - val_accuracy: 0.9653 - val_precision: 0.9660 - val_recall: 0.9619 - val_fmeasure: 0.9638\n",
      "Epoch 73/100\n",
      "139/139 [==============================] - 4s 26ms/step - loss: 0.1222 - accuracy: 0.9606 - precision: 0.9640 - recall: 0.9559 - fmeasure: 0.9599 - val_loss: 0.2824 - val_accuracy: 0.9566 - val_precision: 0.9582 - val_recall: 0.9557 - val_fmeasure: 0.9569\n",
      "Epoch 74/100\n",
      "139/139 [==============================] - 4s 27ms/step - loss: 0.1380 - accuracy: 0.9606 - precision: 0.9636 - recall: 0.9570 - fmeasure: 0.9602 - val_loss: 0.2585 - val_accuracy: 0.9523 - val_precision: 0.9555 - val_recall: 0.9514 - val_fmeasure: 0.9534\n",
      "Epoch 75/100\n",
      "139/139 [==============================] - 4s 26ms/step - loss: 0.1796 - accuracy: 0.9585 - precision: 0.9635 - recall: 0.9550 - fmeasure: 0.9591 - val_loss: 0.1341 - val_accuracy: 0.9610 - val_precision: 0.9653 - val_recall: 0.9586 - val_fmeasure: 0.9618\n",
      "Epoch 76/100\n",
      "139/139 [==============================] - 4s 27ms/step - loss: 0.1244 - accuracy: 0.9697 - precision: 0.9738 - recall: 0.9647 - fmeasure: 0.9692 - val_loss: 0.1001 - val_accuracy: 0.9769 - val_precision: 0.9800 - val_recall: 0.9729 - val_fmeasure: 0.9763\n",
      "Epoch 77/100\n",
      "139/139 [==============================] - 4s 28ms/step - loss: 0.1252 - accuracy: 0.9650 - precision: 0.9687 - recall: 0.9610 - fmeasure: 0.9647 - val_loss: 0.0922 - val_accuracy: 0.9697 - val_precision: 0.9713 - val_recall: 0.9671 - val_fmeasure: 0.9692\n",
      "Epoch 78/100\n",
      "139/139 [==============================] - 4s 27ms/step - loss: 0.0893 - accuracy: 0.9776 - precision: 0.9793 - recall: 0.9745 - fmeasure: 0.9768 - val_loss: 0.1138 - val_accuracy: 0.9754 - val_precision: 0.9798 - val_recall: 0.9714 - val_fmeasure: 0.9755\n",
      "Epoch 79/100\n",
      "139/139 [==============================] - 4s 26ms/step - loss: 0.1258 - accuracy: 0.9671 - precision: 0.9706 - recall: 0.9626 - fmeasure: 0.9665 - val_loss: 0.1172 - val_accuracy: 0.9624 - val_precision: 0.9638 - val_recall: 0.9600 - val_fmeasure: 0.9619\n",
      "Epoch 80/100\n",
      "139/139 [==============================] - 4s 27ms/step - loss: 0.0861 - accuracy: 0.9675 - precision: 0.9714 - recall: 0.9655 - fmeasure: 0.9684 - val_loss: 0.0808 - val_accuracy: 0.9711 - val_precision: 0.9728 - val_recall: 0.9714 - val_fmeasure: 0.9721\n",
      "Epoch 81/100\n",
      "139/139 [==============================] - 4s 26ms/step - loss: 0.0737 - accuracy: 0.9769 - precision: 0.9812 - recall: 0.9755 - fmeasure: 0.9783 - val_loss: 0.0762 - val_accuracy: 0.9798 - val_precision: 0.9800 - val_recall: 0.9800 - val_fmeasure: 0.9800\n",
      "Epoch 82/100\n",
      "139/139 [==============================] - 4s 27ms/step - loss: 0.0729 - accuracy: 0.9758 - precision: 0.9787 - recall: 0.9741 - fmeasure: 0.9764 - val_loss: 0.0943 - val_accuracy: 0.9740 - val_precision: 0.9757 - val_recall: 0.9743 - val_fmeasure: 0.9750\n",
      "Epoch 83/100\n",
      "139/139 [==============================] - 4s 26ms/step - loss: 0.0662 - accuracy: 0.9790 - precision: 0.9807 - recall: 0.9761 - fmeasure: 0.9783 - val_loss: 0.1274 - val_accuracy: 0.9653 - val_precision: 0.9657 - val_recall: 0.9657 - val_fmeasure: 0.9657\n",
      "Epoch 84/100\n",
      "139/139 [==============================] - 4s 26ms/step - loss: 0.0862 - accuracy: 0.9772 - precision: 0.9790 - recall: 0.9752 - fmeasure: 0.9770 - val_loss: 0.0805 - val_accuracy: 0.9769 - val_precision: 0.9771 - val_recall: 0.9771 - val_fmeasure: 0.9771\n",
      "Epoch 85/100\n",
      "139/139 [==============================] - 4s 26ms/step - loss: 0.0507 - accuracy: 0.9841 - precision: 0.9852 - recall: 0.9820 - fmeasure: 0.9836 - val_loss: 0.0785 - val_accuracy: 0.9769 - val_precision: 0.9786 - val_recall: 0.9771 - val_fmeasure: 0.9778\n",
      "Epoch 86/100\n",
      "139/139 [==============================] - 4s 26ms/step - loss: 0.0522 - accuracy: 0.9809 - precision: 0.9820 - recall: 0.9781 - fmeasure: 0.9800 - val_loss: 0.0582 - val_accuracy: 0.9783 - val_precision: 0.9800 - val_recall: 0.9786 - val_fmeasure: 0.9793\n",
      "Epoch 87/100\n",
      "139/139 [==============================] - 4s 26ms/step - loss: 0.0630 - accuracy: 0.9801 - precision: 0.9822 - recall: 0.9770 - fmeasure: 0.9795 - val_loss: 0.0447 - val_accuracy: 0.9812 - val_precision: 0.9843 - val_recall: 0.9814 - val_fmeasure: 0.9828\n",
      "Epoch 88/100\n",
      "139/139 [==============================] - 4s 26ms/step - loss: 0.0601 - accuracy: 0.9801 - precision: 0.9812 - recall: 0.9781 - fmeasure: 0.9796 - val_loss: 0.0748 - val_accuracy: 0.9812 - val_precision: 0.9842 - val_recall: 0.9814 - val_fmeasure: 0.9828\n",
      "Epoch 89/100\n",
      "139/139 [==============================] - 4s 26ms/step - loss: 0.0551 - accuracy: 0.9812 - precision: 0.9838 - recall: 0.9802 - fmeasure: 0.9819 - val_loss: 0.0882 - val_accuracy: 0.9754 - val_precision: 0.9767 - val_recall: 0.9729 - val_fmeasure: 0.9747\n",
      "Epoch 90/100\n",
      "139/139 [==============================] - 4s 26ms/step - loss: 0.0758 - accuracy: 0.9805 - precision: 0.9816 - recall: 0.9791 - fmeasure: 0.9803 - val_loss: 0.0480 - val_accuracy: 0.9870 - val_precision: 0.9871 - val_recall: 0.9857 - val_fmeasure: 0.9864\n",
      "Epoch 91/100\n",
      "139/139 [==============================] - 4s 26ms/step - loss: 0.1082 - accuracy: 0.9801 - precision: 0.9819 - recall: 0.9784 - fmeasure: 0.9801 - val_loss: 0.1475 - val_accuracy: 0.9480 - val_precision: 0.9496 - val_recall: 0.9471 - val_fmeasure: 0.9484\n",
      "Epoch 92/100\n",
      "139/139 [==============================] - 4s 26ms/step - loss: 0.1653 - accuracy: 0.9617 - precision: 0.9658 - recall: 0.9561 - fmeasure: 0.9608 - val_loss: 0.1978 - val_accuracy: 0.9595 - val_precision: 0.9657 - val_recall: 0.9600 - val_fmeasure: 0.9628\n",
      "Epoch 93/100\n",
      "139/139 [==============================] - 4s 27ms/step - loss: 0.1109 - accuracy: 0.9751 - precision: 0.9762 - recall: 0.9714 - fmeasure: 0.9738 - val_loss: 0.5048 - val_accuracy: 0.9711 - val_precision: 0.9714 - val_recall: 0.9714 - val_fmeasure: 0.9714\n",
      "Epoch 94/100\n",
      "139/139 [==============================] - 4s 27ms/step - loss: 0.2651 - accuracy: 0.9491 - precision: 0.9519 - recall: 0.9450 - fmeasure: 0.9482 - val_loss: 0.3624 - val_accuracy: 0.9494 - val_precision: 0.9535 - val_recall: 0.9486 - val_fmeasure: 0.9509\n",
      "Epoch 95/100\n",
      "139/139 [==============================] - 4s 26ms/step - loss: 0.1170 - accuracy: 0.9686 - precision: 0.9731 - recall: 0.9647 - fmeasure: 0.9687 - val_loss: 0.2165 - val_accuracy: 0.9624 - val_precision: 0.9629 - val_recall: 0.9614 - val_fmeasure: 0.9621\n",
      "Epoch 96/100\n",
      "139/139 [==============================] - 4s 26ms/step - loss: 0.0720 - accuracy: 0.9772 - precision: 0.9798 - recall: 0.9748 - fmeasure: 0.9772 - val_loss: 0.1797 - val_accuracy: 0.9798 - val_precision: 0.9827 - val_recall: 0.9786 - val_fmeasure: 0.9806\n",
      "Epoch 97/100\n",
      "139/139 [==============================] - 4s 26ms/step - loss: 0.0643 - accuracy: 0.9812 - precision: 0.9814 - recall: 0.9793 - fmeasure: 0.9803 - val_loss: 0.3048 - val_accuracy: 0.9581 - val_precision: 0.9579 - val_recall: 0.9567 - val_fmeasure: 0.9573\n",
      "Epoch 98/100\n",
      "139/139 [==============================] - 4s 27ms/step - loss: 0.0798 - accuracy: 0.9769 - precision: 0.9783 - recall: 0.9745 - fmeasure: 0.9763 - val_loss: 0.1842 - val_accuracy: 0.9740 - val_precision: 0.9770 - val_recall: 0.9743 - val_fmeasure: 0.9756\n",
      "Epoch 99/100\n",
      "139/139 [==============================] - 4s 26ms/step - loss: 0.0512 - accuracy: 0.9830 - precision: 0.9842 - recall: 0.9809 - fmeasure: 0.9825 - val_loss: 0.1556 - val_accuracy: 0.9798 - val_precision: 0.9800 - val_recall: 0.9800 - val_fmeasure: 0.9800\n",
      "Epoch 100/100\n",
      "139/139 [==============================] - 4s 27ms/step - loss: 0.0506 - accuracy: 0.9798 - precision: 0.9807 - recall: 0.9775 - fmeasure: 0.9790 - val_loss: 0.1723 - val_accuracy: 0.9812 - val_precision: 0.9827 - val_recall: 0.9800 - val_fmeasure: 0.9813\n",
      "22/22 [==============================] - 0s 15ms/step - loss: 0.1723 - accuracy: 0.9812 - precision: 0.9820 - recall: 0.9793 - fmeasure: 0.9806\n",
      "Test loss: 0.17225509881973267\n",
      "Test accuracy: 0.9812138676643372\n",
      "Test precision: 0.9820106625556946\n",
      "Test recall: 0.9792613983154297\n",
      "Test f1-score: 0.9806142449378967\n"
     ]
    }
   ],
   "source": [
    "model.compile(\n",
    "\toptimizer=\"Adam\",\n",
    "\tloss=\"categorical_crossentropy\",\n",
    "\tmetrics=['accuracy', precision, recall,fmeasure])\n",
    "\n",
    "history = model.fit(\n",
    "\tx=X_train, \n",
    "\ty=y_train,\n",
    "    epochs=100,\n",
    "    batch_size=20,\n",
    "    validation_data= (X_test, y_test))\n",
    "\n",
    "score = model.evaluate(\n",
    "\tx=X_test,\n",
    "\ty=y_test)\n",
    "\n",
    "print('Test loss:', score[0])\n",
    "print('Test accuracy:', score[1])\n",
    "print('Test precision:', score[2])\n",
    "print('Test recall:', score[3])\n",
    "print('Test f1-score:', score[4])"
   ]
  },
  {
   "cell_type": "code",
   "execution_count": 58,
   "metadata": {},
   "outputs": [
    {
     "name": "stdout",
     "output_type": "stream",
     "text": [
      "22/22 [==============================] - 0s 15ms/step\n"
     ]
    }
   ],
   "source": [
    "predict_x=model.predict(X_test) \n",
    "predictions=np.argmax(predict_x,axis=1)\n"
   ]
  },
  {
   "cell_type": "code",
   "execution_count": 59,
   "metadata": {},
   "outputs": [
    {
     "data": {
      "image/png": "[encoded data removed]",
      "text/plain": [
       "<Figure size 640x480 with 1 Axes>"
      ]
     },
     "metadata": {},
     "output_type": "display_data"
    }
   ],
   "source": [
    "plt.plot(history.history['accuracy'])\n",
    "plt.plot(history.history['val_accuracy'])\n",
    "plt.title('Model Accuracy')\n",
    "plt.ylim(0, 1)\n",
    "plt.xlabel('Epoch')\n",
    "plt.ylabel('Accuracy')\n",
    "plt.legend(['Train', 'Validation'], loc='upper left')\n",
    "plt.show()"
   ]
  },
  {
   "cell_type": "code",
   "execution_count": 60,
   "metadata": {},
   "outputs": [
    {
     "data": {
      "image/png": "[encoded data removed]",
      "text/plain": [
       "<Figure size 640x480 with 1 Axes>"
      ]
     },
     "metadata": {},
     "output_type": "display_data"
    }
   ],
   "source": [
    "plt.plot(history.history['loss'], label='Training Loss')\n",
    "plt.plot(history.history['val_loss'], label='Validation Loss')\n",
    "plt.xlabel('Epoch')\n",
    "plt.ylabel('Loss')\n",
    "plt.legend()\n",
    "plt.show()"
   ]
  },
  {
   "cell_type": "code",
   "execution_count": 62,
   "metadata": {},
   "outputs": [
    {
     "name": "stdout",
     "output_type": "stream",
     "text": [
      "[[55  0  0  0  0  0  0  0  0  0]\n",
      " [ 0 66  0  0  0  0  0  0  0  0]\n",
      " [ 0  0 69  0  0  0  0  0  0  0]\n",
      " [ 0  1  0 73  2  0  1  0  0  0]\n",
      " [ 0  0  0  1 52  0  0  0  0  0]\n",
      " [ 0  0  0  0  0 70  0  0  0  0]\n",
      " [ 0  1  0  0  1  0 72  1  2  0]\n",
      " [ 0  0  0  0  0  0  0 83  0  0]\n",
      " [ 0  0  0  0  0  0  0  0 73  0]\n",
      " [ 0  0  0  0  0  3  0  0  0 66]]\n",
      "              precision    recall  f1-score   support\n",
      "\n",
      "           0       1.00      1.00      1.00        55\n",
      "           1       0.97      1.00      0.99        66\n",
      "           2       1.00      1.00      1.00        69\n",
      "           3       0.99      0.95      0.97        77\n",
      "           4       0.95      0.98      0.96        53\n",
      "           5       0.96      1.00      0.98        70\n",
      "           6       0.99      0.94      0.96        77\n",
      "           7       0.99      1.00      0.99        83\n",
      "           8       0.97      1.00      0.99        73\n",
      "           9       1.00      0.96      0.98        69\n",
      "\n",
      "    accuracy                           0.98       692\n",
      "   macro avg       0.98      0.98      0.98       692\n",
      "weighted avg       0.98      0.98      0.98       692\n",
      "\n"
     ]
    }
   ],
   "source": [
    "conf_mat=confusion_matrix(y_test_values, predictions, labels=range(10))\n",
    "print(conf_mat)\n",
    "\n",
    "report = classification_report(y_test_values, predictions)\n",
    "print(report)\n"
   ]
  },
  {
   "cell_type": "code",
   "execution_count": 63,
   "metadata": {},
   "outputs": [
    {
     "data": {
      "image/png": "[encoded data removed]",
      "text/plain": [
       "<Figure size 800x600 with 1 Axes>"
      ]
     },
     "metadata": {},
     "output_type": "display_data"
    }
   ],
   "source": [
    "classes = list(CLASSES_MAP.keys())\n",
    "\n",
    "plt.figure(figsize=(8, 6))\n",
    "heatmap = sns.heatmap(conf_mat, annot=True, fmt=\"d\", cmap=\"Blues\", cbar=False)\n",
    "\n",
    "# Set the custom class labels\n",
    "heatmap.set_xticklabels(classes)\n",
    "heatmap.set_yticklabels(classes)\n",
    "\n",
    "plt.title(\"Confusion Matrix\")\n",
    "plt.xlabel(\"Predicted\")\n",
    "plt.ylabel(\"Actual\")\n",
    "plt.show()"
   ]
  },
  {
   "cell_type": "code",
   "execution_count": 64,
   "metadata": {},
   "outputs": [],
   "source": [
    "model_json = model.to_json()\n",
    "with open(\"./model/model1.json\", \"w\") as json_file:\n",
    "    json_file.write(model_json)"
   ]
  },
  {
   "cell_type": "code",
   "execution_count": 65,
   "metadata": {},
   "outputs": [
    {
     "name": "stdout",
     "output_type": "stream",
     "text": [
      "Saved model to disk\n"
     ]
    }
   ],
   "source": [
    "model.save_weights(\"./model/model1.h5\")\n",
    "print(\"Saved model to disk\")"
   ]
  },
  {
   "cell_type": "code",
   "execution_count": 66,
   "metadata": {},
   "outputs": [
    {
     "name": "stdout",
     "output_type": "stream",
     "text": [
      "Loaded model from disk\n"
     ]
    }
   ],
   "source": [
    "json_file = open('./model/model1.json', 'r')\n",
    "loaded_model_json = json_file.read()\n",
    "json_file.close()\n",
    "loaded_model = model_from_json(loaded_model_json)\n",
    "# load weights into new model\n",
    "loaded_model.load_weights(\"./model/model1.h5\")\n",
    "print(\"Loaded model from disk\")"
   ]
  },
  {
   "cell_type": "code",
   "execution_count": 67,
   "metadata": {},
   "outputs": [],
   "source": [
    "loaded_model.compile(\n",
    "\toptimizer=\"Adam\",\n",
    "\tloss=\"categorical_crossentropy\",\n",
    "\tmetrics=['accuracy', precision, recall,fmeasure])"
   ]
  },
  {
   "cell_type": "code",
   "execution_count": 68,
   "metadata": {},
   "outputs": [
    {
     "name": "stdout",
     "output_type": "stream",
     "text": [
      "1/1 [==============================] - 0s 91ms/step\n",
      "1/1 [==============================] - 0s 39ms/step\n",
      "1/1 [==============================] - 0s 21ms/step\n",
      "1/1 [==============================] - 0s 22ms/step\n",
      "1/1 [==============================] - 0s 20ms/step\n",
      "1/1 [==============================] - 0s 21ms/step\n",
      "1/1 [==============================] - 0s 25ms/step\n",
      "1/1 [==============================] - 0s 27ms/step\n",
      "1/1 [==============================] - 0s 20ms/step\n",
      "1/1 [==============================] - 0s 23ms/step\n",
      "1/1 [==============================] - 0s 21ms/step\n",
      "1/1 [==============================] - 0s 21ms/step\n",
      "1/1 [==============================] - 0s 20ms/step\n",
      "1/1 [==============================] - 0s 24ms/step\n",
      "1/1 [==============================] - 0s 21ms/step\n",
      "1/1 [==============================] - 0s 29ms/step\n"
     ]
    }
   ],
   "source": [
    "y, sr = librosa.load('./data/mainPrediction/audiofile.wav')\n",
    "total_duration = librosa.get_duration(y=y, sr=sr)\n",
    "iterate = math.floor(total_duration/2)\n",
    "predVal = {}\n",
    "for i in range(0, iterate):\n",
    "    start_time = i*2\n",
    "    start_index = int(start_time * sr)\n",
    "    end_index = int(start_index + (sr*2))\n",
    "    segment = y[start_index:end_index]\n",
    "    ps = librosa.feature.melspectrogram(y=segment, sr=sr)\n",
    "    ps = np.array(ps.reshape(1, 128, 87, 1))\n",
    "    predicted = loaded_model.predict(ps)\n",
    "    predicted = np.argmax(predicted, axis=1)\n",
    "    predVal[int(end_index/sr)]=CLASSES[predicted[0]]\n",
    "\n",
    "keys = list(predVal.keys())\n",
    "values = list(predVal.values())\n",
    "heatData = np.zeros((len(CLASSES),len(keys)))\n",
    "k=0\n",
    "for i, j in predVal.items():\n",
    "    if k != len(keys):\n",
    "        heatData[CLASSES.index(j)][k] = 1\n",
    "        k = k+1"
   ]
  },
  {
   "cell_type": "code",
   "execution_count": 69,
   "metadata": {},
   "outputs": [
    {
     "name": "stdout",
     "output_type": "stream",
     "text": [
      "['g', 'g', 'am', 'am', 'am', 'am', 'a', 'e', 'g', 'em', 'am', 'a', 'a', 'am', 'am', 'e']\n"
     ]
    },
    {
     "data": {
      "text/plain": [
       "array([[0., 0., 0., 0., 0., 0., 1., 0., 0., 0., 0., 1., 1., 0., 0., 0.],\n",
       "       [0., 0., 1., 1., 1., 1., 0., 0., 0., 0., 1., 0., 0., 1., 1., 0.],\n",
       "       [0., 0., 0., 0., 0., 0., 0., 0., 0., 0., 0., 0., 0., 0., 0., 0.],\n",
       "       [0., 0., 0., 0., 0., 0., 0., 0., 0., 0., 0., 0., 0., 0., 0., 0.],\n",
       "       [0., 0., 0., 0., 0., 0., 0., 0., 0., 0., 0., 0., 0., 0., 0., 0.],\n",
       "       [0., 0., 0., 0., 0., 0., 0., 0., 0., 0., 0., 0., 0., 0., 0., 0.],\n",
       "       [0., 0., 0., 0., 0., 0., 0., 1., 0., 0., 0., 0., 0., 0., 0., 1.],\n",
       "       [0., 0., 0., 0., 0., 0., 0., 0., 0., 1., 0., 0., 0., 0., 0., 0.],\n",
       "       [0., 0., 0., 0., 0., 0., 0., 0., 0., 0., 0., 0., 0., 0., 0., 0.],\n",
       "       [1., 1., 0., 0., 0., 0., 0., 0., 1., 0., 0., 0., 0., 0., 0., 0.]])"
      ]
     },
     "execution_count": 69,
     "metadata": {},
     "output_type": "execute_result"
    }
   ],
   "source": [
    "print(values)\n",
    "heatData"
   ]
  },
  {
   "cell_type": "code",
   "execution_count": 70,
   "metadata": {},
   "outputs": [
    {
     "data": {
      "image/png": "[encoded data removed]",
      "text/plain": [
       "<Figure size 640x480 with 2 Axes>"
      ]
     },
     "metadata": {},
     "output_type": "display_data"
    }
   ],
   "source": [
    "hm = sns.heatmap(heatData, cmap=\"cividis\", yticklabels=CLASSES, xticklabels= keys, linewidths=0.5, linecolor='white') \n",
    "plt.xlabel(\"Time (s)\")\n",
    "plt.ylabel(\"Chords\")\n",
    "plt.savefig('result.png')"
   ]
  },
  {
   "cell_type": "code",
   "execution_count": 3,
   "metadata": {},
   "outputs": [
    {
     "name": "stdout",
     "output_type": "stream",
     "text": [
      "Num GPUs Available:  0\n"
     ]
    }
   ],
   "source": [
    "# !pip install tensorflow-gpu==2.15\n",
    "print(\"Num GPUs Available: \", len(tf.config.list_physical_devices('GPU')))"
   ]
  }
 ],
 "metadata": {
  "kernelspec": {
   "display_name": "Python 3",
   "language": "python",
   "name": "python3"
  },
  "language_info": {
   "codemirror_mode": {
    "name": "ipython",
    "version": 3
   },
   "file_extension": ".py",
   "mimetype": "text/x-python",
   "name": "python",
   "nbconvert_exporter": "python",
   "pygments_lexer": "ipython3",
   "version": "3.11.5"
  }
 },
 "nbformat": 4,
 "nbformat_minor": 2
}
